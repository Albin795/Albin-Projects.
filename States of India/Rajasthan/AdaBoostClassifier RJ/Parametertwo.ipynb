{
 "cells": [
  {
   "cell_type": "code",
   "execution_count": 20,
   "metadata": {},
   "outputs": [],
   "source": [
    "import numpy as np\n",
    "import pandas as pd\n"
   ]
  },
  {
   "cell_type": "code",
   "execution_count": 21,
   "metadata": {},
   "outputs": [],
   "source": [
    "a=pd.read_csv('RJ climate.csv')\n",
    "b=pd.read_csv('RJ_Soil.csv')\n",
    "c=pd.read_csv('RJ_groundwater.csv')\n",
    "d=pd.read_csv('RJ_Fertilizers.csv')\n",
    "e=pd.read_csv('RJ_Pesticides.csv')\n",
    "f=pd.read_csv('RJ Crop data .csv')"
   ]
  },
  {
   "cell_type": "code",
   "execution_count": 22,
   "metadata": {},
   "outputs": [],
   "source": [
    "climate=pd.DataFrame(a['  Humidity'])"
   ]
  },
  {
   "cell_type": "code",
   "execution_count": 23,
   "metadata": {},
   "outputs": [],
   "source": [
    "Soil=pd.DataFrame(b['OC(g kg)'])"
   ]
  },
  {
   "cell_type": "code",
   "execution_count": 24,
   "metadata": {},
   "outputs": [],
   "source": [
    "Water=pd.DataFrame(c['Fall(Depth of Water)'])"
   ]
  },
  {
   "cell_type": "code",
   "execution_count": 25,
   "metadata": {},
   "outputs": [],
   "source": [
    "Fertilizer=pd.DataFrame(d['MAP(tonnes)'])"
   ]
  },
  {
   "cell_type": "code",
   "execution_count": 26,
   "metadata": {},
   "outputs": [],
   "source": [
    "Pesticides=pd.DataFrame(e['DIMETHOATE(QTY)(kg)'])"
   ]
  },
  {
   "cell_type": "code",
   "execution_count": 27,
   "metadata": {},
   "outputs": [],
   "source": [
    "Crop1=pd.DataFrame(f['Rice(kg/hectare)'])\n",
    "Crop2=pd.DataFrame(f['Jowar'])\n",
    "Crop3=pd.DataFrame(f['Small Millets'])\n",
    "Crop4=pd.DataFrame(f['Tur '])\n",
    "Crop5=pd.DataFrame(f['Gram'])\n",
    "Crop6=pd.DataFrame(f['Groundnuts'])\n",
    "Crop7=pd.DataFrame(f['Sessasum'])\n",
    "Crop8=pd.DataFrame(f['Sugarcane'])\n",
    "Crop9=pd.DataFrame(f['Tobacco'])\n",
    "Crop10=pd.DataFrame(f['Chillies'])\n",
    "Crop11=pd.DataFrame(f['Ginger'])\n",
    "Crop12=pd.DataFrame(f['Tumeric'])\n",
    "Crop13=pd.DataFrame(f['Bajra'])\n",
    "Crop14=pd.DataFrame(f['Maize'])\n",
    "Crop15=pd.DataFrame(f['Cotton'])\n",
    "Crop16=pd.DataFrame(f['Potato'])\n",
    "Crop17=pd.DataFrame(f['Wheat'])\n",
    "Crop18=pd.DataFrame(f['Other Pulses'])\n",
    "Crop19=pd.DataFrame(f['Barley'])"
   ]
  },
  {
   "cell_type": "code",
   "execution_count": 28,
   "metadata": {},
   "outputs": [],
   "source": [
    "Parameteronea=pd.concat([climate,Soil,Water,Fertilizer,Pesticides,Crop1],axis=1)\n",
    "Parameteroneb=pd.concat([climate,Soil,Water,Fertilizer,Pesticides,Crop2],axis=1)\n",
    "Parameteronec=pd.concat([climate,Soil,Water,Fertilizer,Pesticides,Crop3],axis=1)\n",
    "Parameteroned=pd.concat([climate,Soil,Water,Fertilizer,Pesticides,Crop4],axis=1)\n",
    "Parameteronee=pd.concat([climate,Soil,Water,Fertilizer,Pesticides,Crop5],axis=1)\n",
    "Parameteronef=pd.concat([climate,Soil,Water,Fertilizer,Pesticides,Crop6],axis=1)\n",
    "Parameteroneg=pd.concat([climate,Soil,Water,Fertilizer,Pesticides,Crop7],axis=1)\n",
    "Parameteroneh=pd.concat([climate,Soil,Water,Fertilizer,Pesticides,Crop8],axis=1)\n",
    "Parameteronei=pd.concat([climate,Soil,Water,Fertilizer,Pesticides,Crop9],axis=1)\n",
    "Parameteronej=pd.concat([climate,Soil,Water,Fertilizer,Pesticides,Crop10],axis=1)\n",
    "Parameteronek=pd.concat([climate,Soil,Water,Fertilizer,Pesticides,Crop11],axis=1)\n",
    "Parameteronel=pd.concat([climate,Soil,Water,Fertilizer,Pesticides,Crop12],axis=1)\n",
    "Parameteronem=pd.concat([climate,Soil,Water,Fertilizer,Pesticides,Crop13],axis=1)\n",
    "Parameteronen=pd.concat([climate,Soil,Water,Fertilizer,Pesticides,Crop14],axis=1)\n",
    "Parameteroneo=pd.concat([climate,Soil,Water,Fertilizer,Pesticides,Crop15],axis=1)\n",
    "Parameteronep=pd.concat([climate,Soil,Water,Fertilizer,Pesticides,Crop16],axis=1)\n",
    "Parameteroneq=pd.concat([climate,Soil,Water,Fertilizer,Pesticides,Crop17],axis=1)\n",
    "Parameteroner=pd.concat([climate,Soil,Water,Fertilizer,Pesticides,Crop18],axis=1)\n",
    "Parameterones=pd.concat([climate,Soil,Water,Fertilizer,Pesticides,Crop19],axis=1)"
   ]
  },
  {
   "cell_type": "code",
   "execution_count": 29,
   "metadata": {},
   "outputs": [],
   "source": [
    "X1=Parameteronea.drop('Rice(kg/hectare)',axis=1)\n",
    "y1=Parameteronea['Rice(kg/hectare)']\n",
    "\n",
    "X2=Parameteroneb.drop('Jowar',axis=1)\n",
    "y2=Parameteroneb['Jowar']\n",
    "\n",
    "X3=Parameteronec.drop('Small Millets',axis=1)\n",
    "y3=Parameteronec['Small Millets']\n",
    "\n",
    "X4=Parameteroned.drop('Tur ',axis=1)\n",
    "y4=Parameteroned['Tur ']\n",
    "\n",
    "X5=Parameteronee.drop('Gram',axis=1)\n",
    "y5=Parameteronee['Gram']\n",
    "\n",
    "X6=Parameteronef.drop('Groundnuts',axis=1)\n",
    "y6=Parameteronef['Groundnuts']\n",
    "\n",
    "X7=Parameteroneg.drop('Sessasum',axis=1)\n",
    "y7=Parameteroneg['Sessasum']\n",
    "\n",
    "X8=Parameteroneh.drop('Sugarcane',axis=1)\n",
    "y8=Parameteroneh['Sugarcane']\n",
    "\n",
    "X9=Parameteronei.drop('Tobacco',axis=1)\n",
    "y9=Parameteronei['Tobacco']\n",
    "\n",
    "X10=Parameteronej.drop('Chillies',axis=1)\n",
    "y10=Parameteronej['Chillies']\n",
    "\n",
    "X11=Parameteronek.drop('Ginger',axis=1)\n",
    "y11=Parameteronek['Ginger']\n",
    "\n",
    "X12=Parameteronel.drop('Tumeric',axis=1)\n",
    "y12=Parameteronel['Tumeric']\n",
    "\n",
    "X13=Parameteronem.drop('Bajra',axis=1)\n",
    "y13=Parameteronem['Bajra']\n",
    "\n",
    "X14=Parameteronen.drop('Maize',axis=1)\n",
    "y14=Parameteronen['Maize']\n",
    "\n",
    "X15=Parameteroneo.drop( 'Cotton',axis=1)\n",
    "y15=Parameteroneo[ 'Cotton']\n",
    "\n",
    "X16=Parameteronep.drop('Potato',axis=1)\n",
    "y16=Parameteronep['Potato']\n",
    "\n",
    "X17=Parameteroneq.drop('Wheat',axis=1)\n",
    "y17=Parameteroneq['Wheat']\n",
    "\n",
    "X18=Parameteroner.drop('Other Pulses',axis=1)\n",
    "y18=Parameteroner['Other Pulses']\n",
    "\n",
    "X19=Parameterones.drop('Barley',axis=1)\n",
    "y19=Parameterones['Barley']"
   ]
  },
  {
   "cell_type": "code",
   "execution_count": 30,
   "metadata": {},
   "outputs": [],
   "source": [
    "from sklearn.model_selection import train_test_split"
   ]
  },
  {
   "cell_type": "code",
   "execution_count": 31,
   "metadata": {},
   "outputs": [],
   "source": [
    "X_train1, X_test1, y_train1, y_test1 = train_test_split(X1, y1, test_size=0.70,random_state=70)\n",
    "X_train2, X_test2, y_train2, y_test2 = train_test_split(X2, y2, test_size=0.70,random_state=70)\n",
    "X_train3, X_test3, y_train3, y_test3 = train_test_split(X3, y3, test_size=0.70,random_state=70)\n",
    "X_train4, X_test4, y_train4, y_test4 = train_test_split(X4, y4, test_size=0.70,random_state=70)\n",
    "X_train5, X_test5, y_train5, y_test5 = train_test_split(X5, y5, test_size=0.70,random_state=70)\n",
    "X_train6, X_test6, y_train6, y_test6 = train_test_split(X6, y6, test_size=0.70,random_state=70)\n",
    "X_train7, X_test7, y_train7, y_test7 = train_test_split(X7, y7, test_size=0.70,random_state=70)\n",
    "X_train8, X_test8, y_train8, y_test8 = train_test_split(X8, y8, test_size=0.70,random_state=70)\n",
    "X_train9, X_test9, y_train9, y_test9 = train_test_split(X9, y9, test_size=0.70,random_state=70)\n",
    "X_train10, X_test10, y_train10, y_test10 = train_test_split(X10, y10, test_size=0.70,random_state=70)\n",
    "X_train11, X_test11, y_train11, y_test11 = train_test_split(X11, y11, test_size=0.70,random_state=70)\n",
    "X_train12, X_test12, y_train12, y_test12 = train_test_split(X12, y12, test_size=0.70,random_state=70)\n",
    "X_train13, X_test13, y_train13, y_test13 = train_test_split(X13, y13, test_size=0.70,random_state=70)\n",
    "X_train14, X_test14, y_train14, y_test14 = train_test_split(X14, y14, test_size=0.70,random_state=70)\n",
    "X_train15, X_test15, y_train15, y_test15 = train_test_split(X15, y15, test_size=0.70,random_state=70)\n",
    "X_train16, X_test16, y_train16, y_test16 = train_test_split(X16, y16, test_size=0.70,random_state=70)\n",
    "X_train17, X_test17, y_train17, y_test17 = train_test_split(X17, y17, test_size=0.70,random_state=70)\n",
    "X_train18, X_test18, y_train18, y_test18 = train_test_split(X18, y18, test_size=0.70,random_state=70)\n",
    "X_train19, X_test19, y_train19, y_test19 = train_test_split(X19, y19, test_size=0.70,random_state=70)"
   ]
  },
  {
   "cell_type": "code",
   "execution_count": 32,
   "metadata": {},
   "outputs": [],
   "source": [
    "from sklearn.ensemble import AdaBoostClassifier"
   ]
  },
  {
   "cell_type": "code",
   "execution_count": 33,
   "metadata": {},
   "outputs": [],
   "source": [
    "a=AdaBoostClassifier()\n",
    "b=AdaBoostClassifier()\n",
    "c=AdaBoostClassifier()\n",
    "d=AdaBoostClassifier()\n",
    "e=AdaBoostClassifier()\n",
    "f=AdaBoostClassifier()\n",
    "g=AdaBoostClassifier()\n",
    "h=AdaBoostClassifier()\n",
    "i=AdaBoostClassifier()\n",
    "j=AdaBoostClassifier()\n",
    "k=AdaBoostClassifier()\n",
    "l=AdaBoostClassifier()\n",
    "m=AdaBoostClassifier()\n",
    "n=AdaBoostClassifier()\n",
    "o=AdaBoostClassifier()\n",
    "p=AdaBoostClassifier()\n",
    "q=AdaBoostClassifier()\n",
    "r=AdaBoostClassifier()\n",
    "s=AdaBoostClassifier()"
   ]
  },
  {
   "cell_type": "code",
   "execution_count": 34,
   "metadata": {},
   "outputs": [
    {
     "data": {
      "text/plain": [
       "AdaBoostClassifier(algorithm='SAMME.R', base_estimator=None,\n",
       "          learning_rate=1.0, n_estimators=50, random_state=None)"
      ]
     },
     "execution_count": 34,
     "metadata": {},
     "output_type": "execute_result"
    }
   ],
   "source": [
    "a.fit(X_train1,y_train1)\n",
    "b.fit(X_train2,y_train2)\n",
    "c.fit(X_train3,y_train3)\n",
    "d.fit(X_train4,y_train4)\n",
    "e.fit(X_train5,y_train5)\n",
    "f.fit(X_train6,y_train6)\n",
    "g.fit(X_train7,y_train7)\n",
    "h.fit(X_train8,y_train8)\n",
    "i.fit(X_train9,y_train9)\n",
    "j.fit(X_train10,y_train10)\n",
    "k.fit(X_train11,y_train11)\n",
    "l.fit(X_train12,y_train12)\n",
    "m.fit(X_train13,y_train13)\n",
    "n.fit(X_train14,y_train14)\n",
    "o.fit(X_train15,y_train15)\n",
    "p.fit(X_train16,y_train16)\n",
    "q.fit(X_train17,y_train17)\n",
    "r.fit(X_train18,y_train18)\n",
    "s.fit(X_train19,y_train19)"
   ]
  },
  {
   "cell_type": "code",
   "execution_count": 35,
   "metadata": {},
   "outputs": [
    {
     "name": "stdout",
     "output_type": "stream",
     "text": [
      "0.0\n",
      "0.0\n",
      "0.0\n",
      "0.0\n",
      "0.0\n",
      "0.0\n",
      "0.0\n",
      "0.0\n",
      "0.0\n",
      "8.873239436619718\n",
      "0.8873239436619719\n",
      "0.8873239436619719\n",
      "0.0\n",
      "0.0\n",
      "0.0\n",
      "0.0\n",
      "0.0\n",
      "0.0\n",
      "0.0\n"
     ]
    }
   ],
   "source": [
    "print(a.score(X_test1,y_test1)*10)\n",
    "print(b.score(X_test2,y_test2)*10)\n",
    "print(c.score(X_test3,y_test3)*10)\n",
    "print(d.score(X_test4,y_test4)*10)\n",
    "print(e.score(X_test5,y_test5)*10)\n",
    "print(f.score(X_test6,y_test6))\n",
    "print(g.score(X_test7,y_test7)*10)\n",
    "print(h.score(X_test8,y_test8))\n",
    "print(i.score(X_test9,y_test9)*10)\n",
    "print(j.score(X_test10,y_test10)*10)\n",
    "print(k.score(X_test11,y_test11))\n",
    "print(l.score(X_test12,y_test12))\n",
    "print(m.score(X_test13,y_test13))\n",
    "print(n.score(X_test14,y_test14)*10)\n",
    "print(o.score(X_test15,y_test15)*10)\n",
    "print(p.score(X_test16,y_test16))\n",
    "print(q.score(X_test17,y_test17)*10)\n",
    "print(r.score(X_test18,y_test18)*10)\n",
    "print(s.score(X_test19,y_test19)*10)"
   ]
  },
  {
   "cell_type": "code",
   "execution_count": null,
   "metadata": {},
   "outputs": [],
   "source": []
  }
 ],
 "metadata": {
  "kernelspec": {
   "display_name": "Python 3",
   "language": "python",
   "name": "python3"
  },
  "language_info": {
   "codemirror_mode": {
    "name": "ipython",
    "version": 3
   },
   "file_extension": ".py",
   "mimetype": "text/x-python",
   "name": "python",
   "nbconvert_exporter": "python",
   "pygments_lexer": "ipython3",
   "version": "3.6.5"
  }
 },
 "nbformat": 4,
 "nbformat_minor": 2
}
