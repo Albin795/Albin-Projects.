{
 "cells": [
  {
   "cell_type": "code",
   "execution_count": 1,
   "metadata": {},
   "outputs": [],
   "source": [
    "import numpy as np\n",
    "import pandas as pd\n",
    "\n"
   ]
  },
  {
   "cell_type": "code",
   "execution_count": 2,
   "metadata": {},
   "outputs": [],
   "source": [
    "a=pd.read_csv('climate Test1.csv')\n",
    "b=pd.read_csv('Soil Test1.csv')\n",
    "c=pd.read_csv('groundwater Test1.csv')\n",
    "d=pd.read_csv('Fertilizers Test1.csv')\n",
    "e=pd.read_csv('Pesticides Test1.csv')\n",
    "f=pd.read_csv('Crop data Test1.csv')"
   ]
  },
  {
   "cell_type": "code",
   "execution_count": 3,
   "metadata": {},
   "outputs": [],
   "source": [
    "climate=pd.DataFrame(a[' Rainfall'])"
   ]
  },
  {
   "cell_type": "code",
   "execution_count": 4,
   "metadata": {},
   "outputs": [],
   "source": [
    "Soil=pd.DataFrame(b['Ph'])"
   ]
  },
  {
   "cell_type": "code",
   "execution_count": 5,
   "metadata": {},
   "outputs": [],
   "source": [
    "Water=pd.DataFrame(c['Rise (Depth of Water)'])"
   ]
  },
  {
   "cell_type": "code",
   "execution_count": 6,
   "metadata": {},
   "outputs": [],
   "source": [
    "Fertilizer=pd.DataFrame(d['NPK(tonnes)'])"
   ]
  },
  {
   "cell_type": "code",
   "execution_count": 7,
   "metadata": {},
   "outputs": [],
   "source": [
    "Pesticides=pd.DataFrame(e['MALATHION(QTY)(kg)'])"
   ]
  },
  {
   "cell_type": "code",
   "execution_count": 8,
   "metadata": {},
   "outputs": [],
   "source": [
    "Crop=pd.DataFrame(f['Rice(kg/hectare)'])"
   ]
  },
  {
   "cell_type": "code",
   "execution_count": 9,
   "metadata": {},
   "outputs": [],
   "source": [
    "Parameterone=pd.concat([climate,Soil,Water,Fertilizer,Pesticides,Crop],axis=1)"
   ]
  },
  {
   "cell_type": "code",
   "execution_count": 10,
   "metadata": {},
   "outputs": [
    {
     "data": {
      "text/html": [
       "<div>\n",
       "<style scoped>\n",
       "    .dataframe tbody tr th:only-of-type {\n",
       "        vertical-align: middle;\n",
       "    }\n",
       "\n",
       "    .dataframe tbody tr th {\n",
       "        vertical-align: top;\n",
       "    }\n",
       "\n",
       "    .dataframe thead th {\n",
       "        text-align: right;\n",
       "    }\n",
       "</style>\n",
       "<table border=\"1\" class=\"dataframe\">\n",
       "  <thead>\n",
       "    <tr style=\"text-align: right;\">\n",
       "      <th></th>\n",
       "      <th>Rainfall</th>\n",
       "      <th>Ph</th>\n",
       "      <th>Rise (Depth of Water)</th>\n",
       "      <th>NPK(tonnes)</th>\n",
       "      <th>MALATHION(QTY)(kg)</th>\n",
       "      <th>Rice(kg/hectare)</th>\n",
       "    </tr>\n",
       "  </thead>\n",
       "  <tbody>\n",
       "    <tr>\n",
       "      <th>0</th>\n",
       "      <td>5029</td>\n",
       "      <td>4.2</td>\n",
       "      <td>30.8</td>\n",
       "      <td>1</td>\n",
       "      <td>1780</td>\n",
       "      <td>1717</td>\n",
       "    </tr>\n",
       "    <tr>\n",
       "      <th>1</th>\n",
       "      <td>5030</td>\n",
       "      <td>4.4</td>\n",
       "      <td>31.8</td>\n",
       "      <td>1</td>\n",
       "      <td>1781</td>\n",
       "      <td>1718</td>\n",
       "    </tr>\n",
       "    <tr>\n",
       "      <th>2</th>\n",
       "      <td>5031</td>\n",
       "      <td>4.5</td>\n",
       "      <td>32.8</td>\n",
       "      <td>1</td>\n",
       "      <td>1782</td>\n",
       "      <td>1719</td>\n",
       "    </tr>\n",
       "    <tr>\n",
       "      <th>3</th>\n",
       "      <td>5032</td>\n",
       "      <td>4.0</td>\n",
       "      <td>33.8</td>\n",
       "      <td>1</td>\n",
       "      <td>1783</td>\n",
       "      <td>1720</td>\n",
       "    </tr>\n",
       "    <tr>\n",
       "      <th>4</th>\n",
       "      <td>5033</td>\n",
       "      <td>4.1</td>\n",
       "      <td>34.8</td>\n",
       "      <td>1</td>\n",
       "      <td>1784</td>\n",
       "      <td>1721</td>\n",
       "    </tr>\n",
       "    <tr>\n",
       "      <th>5</th>\n",
       "      <td>5034</td>\n",
       "      <td>4.2</td>\n",
       "      <td>35.8</td>\n",
       "      <td>1</td>\n",
       "      <td>1785</td>\n",
       "      <td>1722</td>\n",
       "    </tr>\n",
       "    <tr>\n",
       "      <th>6</th>\n",
       "      <td>5035</td>\n",
       "      <td>4.4</td>\n",
       "      <td>36.8</td>\n",
       "      <td>1</td>\n",
       "      <td>1786</td>\n",
       "      <td>1723</td>\n",
       "    </tr>\n",
       "    <tr>\n",
       "      <th>7</th>\n",
       "      <td>5036</td>\n",
       "      <td>4.2</td>\n",
       "      <td>37.8</td>\n",
       "      <td>1</td>\n",
       "      <td>1787</td>\n",
       "      <td>1724</td>\n",
       "    </tr>\n",
       "    <tr>\n",
       "      <th>8</th>\n",
       "      <td>5037</td>\n",
       "      <td>4.4</td>\n",
       "      <td>38.8</td>\n",
       "      <td>1</td>\n",
       "      <td>1788</td>\n",
       "      <td>1725</td>\n",
       "    </tr>\n",
       "    <tr>\n",
       "      <th>9</th>\n",
       "      <td>5038</td>\n",
       "      <td>4.5</td>\n",
       "      <td>39.8</td>\n",
       "      <td>1</td>\n",
       "      <td>1789</td>\n",
       "      <td>1726</td>\n",
       "    </tr>\n",
       "    <tr>\n",
       "      <th>10</th>\n",
       "      <td>5039</td>\n",
       "      <td>4.0</td>\n",
       "      <td>40.8</td>\n",
       "      <td>1</td>\n",
       "      <td>1790</td>\n",
       "      <td>1727</td>\n",
       "    </tr>\n",
       "    <tr>\n",
       "      <th>11</th>\n",
       "      <td>5040</td>\n",
       "      <td>4.1</td>\n",
       "      <td>41.8</td>\n",
       "      <td>1</td>\n",
       "      <td>1791</td>\n",
       "      <td>1728</td>\n",
       "    </tr>\n",
       "    <tr>\n",
       "      <th>12</th>\n",
       "      <td>5041</td>\n",
       "      <td>4.2</td>\n",
       "      <td>42.8</td>\n",
       "      <td>1</td>\n",
       "      <td>1792</td>\n",
       "      <td>1729</td>\n",
       "    </tr>\n",
       "    <tr>\n",
       "      <th>13</th>\n",
       "      <td>5042</td>\n",
       "      <td>4.1</td>\n",
       "      <td>43.8</td>\n",
       "      <td>1</td>\n",
       "      <td>1793</td>\n",
       "      <td>1730</td>\n",
       "    </tr>\n",
       "    <tr>\n",
       "      <th>14</th>\n",
       "      <td>5043</td>\n",
       "      <td>4.2</td>\n",
       "      <td>44.8</td>\n",
       "      <td>1</td>\n",
       "      <td>1794</td>\n",
       "      <td>1731</td>\n",
       "    </tr>\n",
       "    <tr>\n",
       "      <th>15</th>\n",
       "      <td>5044</td>\n",
       "      <td>4.4</td>\n",
       "      <td>45.8</td>\n",
       "      <td>1</td>\n",
       "      <td>1795</td>\n",
       "      <td>1732</td>\n",
       "    </tr>\n",
       "    <tr>\n",
       "      <th>16</th>\n",
       "      <td>5045</td>\n",
       "      <td>4.5</td>\n",
       "      <td>46.8</td>\n",
       "      <td>1</td>\n",
       "      <td>1796</td>\n",
       "      <td>1733</td>\n",
       "    </tr>\n",
       "    <tr>\n",
       "      <th>17</th>\n",
       "      <td>5046</td>\n",
       "      <td>4.0</td>\n",
       "      <td>47.8</td>\n",
       "      <td>1</td>\n",
       "      <td>1797</td>\n",
       "      <td>1734</td>\n",
       "    </tr>\n",
       "    <tr>\n",
       "      <th>18</th>\n",
       "      <td>5047</td>\n",
       "      <td>4.1</td>\n",
       "      <td>48.8</td>\n",
       "      <td>1</td>\n",
       "      <td>1798</td>\n",
       "      <td>1735</td>\n",
       "    </tr>\n",
       "    <tr>\n",
       "      <th>19</th>\n",
       "      <td>5048</td>\n",
       "      <td>4.2</td>\n",
       "      <td>49.8</td>\n",
       "      <td>1</td>\n",
       "      <td>1799</td>\n",
       "      <td>1736</td>\n",
       "    </tr>\n",
       "    <tr>\n",
       "      <th>20</th>\n",
       "      <td>5049</td>\n",
       "      <td>4.5</td>\n",
       "      <td>50.8</td>\n",
       "      <td>1</td>\n",
       "      <td>1800</td>\n",
       "      <td>1737</td>\n",
       "    </tr>\n",
       "    <tr>\n",
       "      <th>21</th>\n",
       "      <td>5050</td>\n",
       "      <td>4.0</td>\n",
       "      <td>51.8</td>\n",
       "      <td>1</td>\n",
       "      <td>1801</td>\n",
       "      <td>1738</td>\n",
       "    </tr>\n",
       "    <tr>\n",
       "      <th>22</th>\n",
       "      <td>5051</td>\n",
       "      <td>4.1</td>\n",
       "      <td>52.8</td>\n",
       "      <td>1</td>\n",
       "      <td>1802</td>\n",
       "      <td>1739</td>\n",
       "    </tr>\n",
       "    <tr>\n",
       "      <th>23</th>\n",
       "      <td>5052</td>\n",
       "      <td>4.2</td>\n",
       "      <td>53.8</td>\n",
       "      <td>1</td>\n",
       "      <td>1803</td>\n",
       "      <td>1740</td>\n",
       "    </tr>\n",
       "    <tr>\n",
       "      <th>24</th>\n",
       "      <td>5053</td>\n",
       "      <td>4.4</td>\n",
       "      <td>54.8</td>\n",
       "      <td>1</td>\n",
       "      <td>1804</td>\n",
       "      <td>1741</td>\n",
       "    </tr>\n",
       "    <tr>\n",
       "      <th>25</th>\n",
       "      <td>5054</td>\n",
       "      <td>4.2</td>\n",
       "      <td>55.8</td>\n",
       "      <td>1</td>\n",
       "      <td>1805</td>\n",
       "      <td>1742</td>\n",
       "    </tr>\n",
       "    <tr>\n",
       "      <th>26</th>\n",
       "      <td>5055</td>\n",
       "      <td>4.4</td>\n",
       "      <td>56.8</td>\n",
       "      <td>1</td>\n",
       "      <td>1806</td>\n",
       "      <td>1743</td>\n",
       "    </tr>\n",
       "    <tr>\n",
       "      <th>27</th>\n",
       "      <td>5056</td>\n",
       "      <td>4.5</td>\n",
       "      <td>57.8</td>\n",
       "      <td>1</td>\n",
       "      <td>1807</td>\n",
       "      <td>1744</td>\n",
       "    </tr>\n",
       "    <tr>\n",
       "      <th>28</th>\n",
       "      <td>5057</td>\n",
       "      <td>4.0</td>\n",
       "      <td>58.8</td>\n",
       "      <td>1</td>\n",
       "      <td>1808</td>\n",
       "      <td>1745</td>\n",
       "    </tr>\n",
       "    <tr>\n",
       "      <th>29</th>\n",
       "      <td>5058</td>\n",
       "      <td>4.1</td>\n",
       "      <td>59.8</td>\n",
       "      <td>1</td>\n",
       "      <td>1809</td>\n",
       "      <td>1746</td>\n",
       "    </tr>\n",
       "    <tr>\n",
       "      <th>30</th>\n",
       "      <td>5059</td>\n",
       "      <td>4.2</td>\n",
       "      <td>60.8</td>\n",
       "      <td>1</td>\n",
       "      <td>1810</td>\n",
       "      <td>1747</td>\n",
       "    </tr>\n",
       "  </tbody>\n",
       "</table>\n",
       "</div>"
      ],
      "text/plain": [
       "     Rainfall   Ph  Rise (Depth of Water)  NPK(tonnes)  MALATHION(QTY)(kg)  \\\n",
       "0        5029  4.2                   30.8            1                1780   \n",
       "1        5030  4.4                   31.8            1                1781   \n",
       "2        5031  4.5                   32.8            1                1782   \n",
       "3        5032  4.0                   33.8            1                1783   \n",
       "4        5033  4.1                   34.8            1                1784   \n",
       "5        5034  4.2                   35.8            1                1785   \n",
       "6        5035  4.4                   36.8            1                1786   \n",
       "7        5036  4.2                   37.8            1                1787   \n",
       "8        5037  4.4                   38.8            1                1788   \n",
       "9        5038  4.5                   39.8            1                1789   \n",
       "10       5039  4.0                   40.8            1                1790   \n",
       "11       5040  4.1                   41.8            1                1791   \n",
       "12       5041  4.2                   42.8            1                1792   \n",
       "13       5042  4.1                   43.8            1                1793   \n",
       "14       5043  4.2                   44.8            1                1794   \n",
       "15       5044  4.4                   45.8            1                1795   \n",
       "16       5045  4.5                   46.8            1                1796   \n",
       "17       5046  4.0                   47.8            1                1797   \n",
       "18       5047  4.1                   48.8            1                1798   \n",
       "19       5048  4.2                   49.8            1                1799   \n",
       "20       5049  4.5                   50.8            1                1800   \n",
       "21       5050  4.0                   51.8            1                1801   \n",
       "22       5051  4.1                   52.8            1                1802   \n",
       "23       5052  4.2                   53.8            1                1803   \n",
       "24       5053  4.4                   54.8            1                1804   \n",
       "25       5054  4.2                   55.8            1                1805   \n",
       "26       5055  4.4                   56.8            1                1806   \n",
       "27       5056  4.5                   57.8            1                1807   \n",
       "28       5057  4.0                   58.8            1                1808   \n",
       "29       5058  4.1                   59.8            1                1809   \n",
       "30       5059  4.2                   60.8            1                1810   \n",
       "\n",
       "    Rice(kg/hectare)  \n",
       "0               1717  \n",
       "1               1718  \n",
       "2               1719  \n",
       "3               1720  \n",
       "4               1721  \n",
       "5               1722  \n",
       "6               1723  \n",
       "7               1724  \n",
       "8               1725  \n",
       "9               1726  \n",
       "10              1727  \n",
       "11              1728  \n",
       "12              1729  \n",
       "13              1730  \n",
       "14              1731  \n",
       "15              1732  \n",
       "16              1733  \n",
       "17              1734  \n",
       "18              1735  \n",
       "19              1736  \n",
       "20              1737  \n",
       "21              1738  \n",
       "22              1739  \n",
       "23              1740  \n",
       "24              1741  \n",
       "25              1742  \n",
       "26              1743  \n",
       "27              1744  \n",
       "28              1745  \n",
       "29              1746  \n",
       "30              1747  "
      ]
     },
     "execution_count": 10,
     "metadata": {},
     "output_type": "execute_result"
    }
   ],
   "source": [
    "Parameterone"
   ]
  },
  {
   "cell_type": "code",
   "execution_count": 11,
   "metadata": {},
   "outputs": [],
   "source": [
    "#################Ada Boost Classifier##################"
   ]
  },
  {
   "cell_type": "code",
   "execution_count": 12,
   "metadata": {},
   "outputs": [],
   "source": [
    "X=Parameterone.drop('Rice(kg/hectare)',axis=1)\n",
    "y=Parameterone['Rice(kg/hectare)']"
   ]
  },
  {
   "cell_type": "code",
   "execution_count": 13,
   "metadata": {},
   "outputs": [
    {
     "data": {
      "text/plain": [
       "Index([' Rainfall', 'Ph', 'Rise (Depth of Water)', 'NPK(tonnes)',\n",
       "       'MALATHION(QTY)(kg)', 'Rice(kg/hectare)'],\n",
       "      dtype='object')"
      ]
     },
     "execution_count": 13,
     "metadata": {},
     "output_type": "execute_result"
    }
   ],
   "source": [
    "Parameterone.columns"
   ]
  },
  {
   "cell_type": "code",
   "execution_count": 14,
   "metadata": {},
   "outputs": [],
   "source": [
    "from sklearn.model_selection import train_test_split"
   ]
  },
  {
   "cell_type": "code",
   "execution_count": 15,
   "metadata": {},
   "outputs": [],
   "source": [
    "X_train, X_test, y_train, y_test = train_test_split(X, y, test_size=0.70,random_state=70)"
   ]
  },
  {
   "cell_type": "code",
   "execution_count": 16,
   "metadata": {},
   "outputs": [],
   "source": [
    "from sklearn import svm\n"
   ]
  },
  {
   "cell_type": "code",
   "execution_count": 17,
   "metadata": {},
   "outputs": [],
   "source": [
    "a=svm.SVC()"
   ]
  },
  {
   "cell_type": "code",
   "execution_count": 18,
   "metadata": {},
   "outputs": [],
   "source": [
    "a=a.fit(X_train,y_train)"
   ]
  },
  {
   "cell_type": "code",
   "execution_count": 19,
   "metadata": {},
   "outputs": [
    {
     "name": "stdout",
     "output_type": "stream",
     "text": [
      "0.0\n"
     ]
    }
   ],
   "source": [
    "print(a.score(X_test,y_test)*10)"
   ]
  },
  {
   "cell_type": "code",
   "execution_count": 20,
   "metadata": {},
   "outputs": [
    {
     "data": {
      "text/plain": [
       "Index(['Year', 'Rice(kg/hectare)', 'Small Millets', 'Tur ', 'Sessasum',\n",
       "       'Banana', 'Sugarcane', 'Chillies', 'Ginger', 'Tumeric', 'Maize',\n",
       "       'Potato', 'Wheat', 'Other Pulses', 'Groundnuts'],\n",
       "      dtype='object')"
      ]
     },
     "execution_count": 20,
     "metadata": {},
     "output_type": "execute_result"
    }
   ],
   "source": [
    "f.columns"
   ]
  },
  {
   "cell_type": "code",
   "execution_count": 21,
   "metadata": {},
   "outputs": [],
   "source": [
    "Crop2=pd.DataFrame(f['Small Millets'])\n",
    "Crop3=pd.DataFrame(f['Tur '])\n",
    "Crop4=pd.DataFrame(f['Sessasum'])\n",
    "Crop5=pd.DataFrame(f['Banana'])\n",
    "Crop6=pd.DataFrame(f['Sugarcane'])\n",
    "Crop7=pd.DataFrame(f['Chillies'])\n",
    "Crop8=pd.DataFrame(f['Ginger'])\n",
    "Crop9=pd.DataFrame(f['Tumeric'])\n",
    "Crop10=pd.DataFrame(f['Maize'])\n",
    "Crop11=pd.DataFrame(f['Potato'])\n",
    "Crop12=pd.DataFrame(f['Wheat'])\n",
    "Crop13=pd.DataFrame(f['Other Pulses'])\n",
    "Crop14=pd.DataFrame(f['Groundnuts'])"
   ]
  },
  {
   "cell_type": "code",
   "execution_count": 22,
   "metadata": {},
   "outputs": [],
   "source": [
    "Parameteronea=pd.concat([climate,Soil,Water,Fertilizer,Pesticides,Crop2],axis=1)\n",
    "Parameteroneb=pd.concat([climate,Soil,Water,Fertilizer,Pesticides,Crop3],axis=1)\n",
    "Parameteronec=pd.concat([climate,Soil,Water,Fertilizer,Pesticides,Crop4],axis=1)\n",
    "Parameteroned=pd.concat([climate,Soil,Water,Fertilizer,Pesticides,Crop5],axis=1)\n",
    "Parameteronee=pd.concat([climate,Soil,Water,Fertilizer,Pesticides,Crop6],axis=1)\n",
    "Parameteronef=pd.concat([climate,Soil,Water,Fertilizer,Pesticides,Crop7],axis=1)\n",
    "Parameteroneg=pd.concat([climate,Soil,Water,Fertilizer,Pesticides,Crop8],axis=1)\n",
    "Parameteroneh=pd.concat([climate,Soil,Water,Fertilizer,Pesticides,Crop9],axis=1)\n",
    "Parameteronei=pd.concat([climate,Soil,Water,Fertilizer,Pesticides,Crop10],axis=1)\n",
    "Parameteronej=pd.concat([climate,Soil,Water,Fertilizer,Pesticides,Crop11],axis=1)\n",
    "Parameteronek=pd.concat([climate,Soil,Water,Fertilizer,Pesticides,Crop12],axis=1)\n",
    "Parameteronel=pd.concat([climate,Soil,Water,Fertilizer,Pesticides,Crop13],axis=1)\n",
    "Parameteronem=pd.concat([climate,Soil,Water,Fertilizer,Pesticides,Crop14],axis=1)\n"
   ]
  },
  {
   "cell_type": "code",
   "execution_count": 23,
   "metadata": {},
   "outputs": [],
   "source": [
    "\n",
    "X2=Parameteronea.drop('Small Millets',axis=1)\n",
    "y2=Parameteronea['Small Millets']\n",
    "\n",
    "X3=Parameteroneb.drop('Tur ',axis=1)\n",
    "y3=Parameteroneb['Tur ']\n",
    "\n",
    "X4=Parameteronec.drop('Sessasum',axis=1)\n",
    "y4=Parameteronec['Sessasum']\n",
    "\n",
    "X5=Parameteroned.drop('Banana',axis=1)\n",
    "y5=Parameteroned['Banana']\n",
    "\n",
    "X6=Parameteronee.drop('Sugarcane',axis=1)\n",
    "y6=Parameteronee['Sugarcane']\n",
    "\n",
    "X7=Parameteronef.drop('Chillies',axis=1)\n",
    "y7=Parameteronef['Chillies']\n",
    "\n",
    "X8=Parameteroneg.drop('Ginger',axis=1)\n",
    "y8=Parameteroneg['Ginger']\n",
    "\n",
    "X9=Parameteroneh.drop('Tumeric',axis=1)\n",
    "y9=Parameteroneh['Tumeric']\n",
    "\n",
    "X10=Parameteronei.drop('Maize',axis=1)\n",
    "y10=Parameteronei['Maize']\n",
    "\n",
    "X11=Parameteronej.drop('Potato',axis=1)\n",
    "y11=Parameteronej['Potato']\n",
    "\n",
    "X12=Parameteronek.drop('Wheat',axis=1)\n",
    "y12=Parameteronek['Wheat']\n",
    "\n",
    "X13=Parameteronel.drop('Other Pulses',axis=1)\n",
    "y13=Parameteronel['Other Pulses']\n",
    "\n",
    "X14=Parameteronem.drop('Groundnuts',axis=1)\n",
    "y14=Parameteronem['Groundnuts']\n",
    "\n"
   ]
  },
  {
   "cell_type": "code",
   "execution_count": 24,
   "metadata": {},
   "outputs": [],
   "source": [
    "from sklearn.model_selection import train_test_split"
   ]
  },
  {
   "cell_type": "code",
   "execution_count": 25,
   "metadata": {},
   "outputs": [],
   "source": [
    "\n",
    "X_train2, X_test2, y_train2, y_test2 = train_test_split(X2, y2, test_size=0.70,random_state=70)\n",
    "X_train3, X_test3, y_train3, y_test3 = train_test_split(X3, y3, test_size=0.70,random_state=70)\n",
    "X_train4, X_test4, y_train4, y_test4 = train_test_split(X4, y4, test_size=0.70,random_state=70)\n",
    "X_train5, X_test5, y_train5, y_test5 = train_test_split(X5, y5, test_size=0.70,random_state=70)\n",
    "X_train6, X_test6, y_train6, y_test6 = train_test_split(X6, y6, test_size=0.70,random_state=70)\n",
    "X_train7, X_test7, y_train7, y_test7 = train_test_split(X7, y7, test_size=0.70,random_state=70)\n",
    "X_train8, X_test8, y_train8, y_test8 = train_test_split(X8, y8, test_size=0.70,random_state=70)\n",
    "X_train9, X_test9, y_train9, y_test9 = train_test_split(X9, y9, test_size=0.70,random_state=70)\n",
    "X_train10, X_test10, y_train10, y_test10 = train_test_split(X10, y10, test_size=0.70,random_state=70)\n",
    "X_train11, X_test11, y_train11, y_test11 = train_test_split(X11, y11, test_size=0.70,random_state=70)\n",
    "X_train12, X_test12, y_train12, y_test12 = train_test_split(X12, y12, test_size=0.70,random_state=70)\n",
    "X_train13, X_test13, y_train13, y_test13 = train_test_split(X13, y13, test_size=0.70,random_state=70)\n",
    "X_train14, X_test14, y_train14, y_test14 = train_test_split(X14, y14, test_size=0.70,random_state=70)\n"
   ]
  },
  {
   "cell_type": "code",
   "execution_count": 26,
   "metadata": {},
   "outputs": [],
   "source": [
    "from sklearn import svm"
   ]
  },
  {
   "cell_type": "code",
   "execution_count": 29,
   "metadata": {},
   "outputs": [],
   "source": [
    "b=svm.SVC()\n",
    "c=svm.SVC()\n",
    "d=svm.SVC()\n",
    "#e=svm.SVC()\n",
    "f=svm.SVC()\n",
    "g=svm.SVC()\n",
    "h=svm.SVC()\n",
    "i=svm.SVC()\n",
    "j=svm.SVC()\n",
    "k=svm.SVC()\n",
    "l=svm.SVC()\n",
    "m=svm.SVC()\n",
    "n=svm.SVC()\n",
    "\n"
   ]
  },
  {
   "cell_type": "code",
   "execution_count": 30,
   "metadata": {},
   "outputs": [
    {
     "ename": "ValueError",
     "evalue": "The number of classes has to be greater than one; got 1",
     "output_type": "error",
     "traceback": [
      "\u001b[1;31m---------------------------------------------------------------------------\u001b[0m",
      "\u001b[1;31mValueError\u001b[0m                                Traceback (most recent call last)",
      "\u001b[1;32m<ipython-input-30-35376f3ee377>\u001b[0m in \u001b[0;36m<module>\u001b[1;34m()\u001b[0m\n\u001b[0;32m      9\u001b[0m \u001b[0mi\u001b[0m\u001b[1;33m.\u001b[0m\u001b[0mfit\u001b[0m\u001b[1;33m(\u001b[0m\u001b[0mX_train9\u001b[0m\u001b[1;33m,\u001b[0m\u001b[0my_train9\u001b[0m\u001b[1;33m)\u001b[0m\u001b[1;33m\u001b[0m\u001b[0m\n\u001b[0;32m     10\u001b[0m \u001b[0mj\u001b[0m\u001b[1;33m.\u001b[0m\u001b[0mfit\u001b[0m\u001b[1;33m(\u001b[0m\u001b[0mX_train10\u001b[0m\u001b[1;33m,\u001b[0m\u001b[0my_train10\u001b[0m\u001b[1;33m)\u001b[0m\u001b[1;33m\u001b[0m\u001b[0m\n\u001b[1;32m---> 11\u001b[1;33m \u001b[0mk\u001b[0m\u001b[1;33m.\u001b[0m\u001b[0mfit\u001b[0m\u001b[1;33m(\u001b[0m\u001b[0mX_train11\u001b[0m\u001b[1;33m,\u001b[0m\u001b[0my_train11\u001b[0m\u001b[1;33m)\u001b[0m\u001b[1;33m\u001b[0m\u001b[0m\n\u001b[0m\u001b[0;32m     12\u001b[0m \u001b[0ml\u001b[0m\u001b[1;33m.\u001b[0m\u001b[0mfit\u001b[0m\u001b[1;33m(\u001b[0m\u001b[0mX_train12\u001b[0m\u001b[1;33m,\u001b[0m\u001b[0my_train12\u001b[0m\u001b[1;33m)\u001b[0m\u001b[1;33m\u001b[0m\u001b[0m\n\u001b[0;32m     13\u001b[0m \u001b[0mm\u001b[0m\u001b[1;33m.\u001b[0m\u001b[0mfit\u001b[0m\u001b[1;33m(\u001b[0m\u001b[0mX_train13\u001b[0m\u001b[1;33m,\u001b[0m\u001b[0my_train13\u001b[0m\u001b[1;33m)\u001b[0m\u001b[1;33m\u001b[0m\u001b[0m\n",
      "\u001b[1;32m~\\Anaconda3\\lib\\site-packages\\sklearn\\svm\\base.py\u001b[0m in \u001b[0;36mfit\u001b[1;34m(self, X, y, sample_weight)\u001b[0m\n\u001b[0;32m    148\u001b[0m \u001b[1;33m\u001b[0m\u001b[0m\n\u001b[0;32m    149\u001b[0m         \u001b[0mX\u001b[0m\u001b[1;33m,\u001b[0m \u001b[0my\u001b[0m \u001b[1;33m=\u001b[0m \u001b[0mcheck_X_y\u001b[0m\u001b[1;33m(\u001b[0m\u001b[0mX\u001b[0m\u001b[1;33m,\u001b[0m \u001b[0my\u001b[0m\u001b[1;33m,\u001b[0m \u001b[0mdtype\u001b[0m\u001b[1;33m=\u001b[0m\u001b[0mnp\u001b[0m\u001b[1;33m.\u001b[0m\u001b[0mfloat64\u001b[0m\u001b[1;33m,\u001b[0m \u001b[0morder\u001b[0m\u001b[1;33m=\u001b[0m\u001b[1;34m'C'\u001b[0m\u001b[1;33m,\u001b[0m \u001b[0maccept_sparse\u001b[0m\u001b[1;33m=\u001b[0m\u001b[1;34m'csr'\u001b[0m\u001b[1;33m)\u001b[0m\u001b[1;33m\u001b[0m\u001b[0m\n\u001b[1;32m--> 150\u001b[1;33m         \u001b[0my\u001b[0m \u001b[1;33m=\u001b[0m \u001b[0mself\u001b[0m\u001b[1;33m.\u001b[0m\u001b[0m_validate_targets\u001b[0m\u001b[1;33m(\u001b[0m\u001b[0my\u001b[0m\u001b[1;33m)\u001b[0m\u001b[1;33m\u001b[0m\u001b[0m\n\u001b[0m\u001b[0;32m    151\u001b[0m \u001b[1;33m\u001b[0m\u001b[0m\n\u001b[0;32m    152\u001b[0m         sample_weight = np.asarray([]\n",
      "\u001b[1;32m~\\Anaconda3\\lib\\site-packages\\sklearn\\svm\\base.py\u001b[0m in \u001b[0;36m_validate_targets\u001b[1;34m(self, y)\u001b[0m\n\u001b[0;32m    504\u001b[0m             raise ValueError(\n\u001b[0;32m    505\u001b[0m                 \u001b[1;34m\"The number of classes has to be greater than one; got %d\"\u001b[0m\u001b[1;33m\u001b[0m\u001b[0m\n\u001b[1;32m--> 506\u001b[1;33m                 % len(cls))\n\u001b[0m\u001b[0;32m    507\u001b[0m \u001b[1;33m\u001b[0m\u001b[0m\n\u001b[0;32m    508\u001b[0m         \u001b[0mself\u001b[0m\u001b[1;33m.\u001b[0m\u001b[0mclasses_\u001b[0m \u001b[1;33m=\u001b[0m \u001b[0mcls\u001b[0m\u001b[1;33m\u001b[0m\u001b[0m\n",
      "\u001b[1;31mValueError\u001b[0m: The number of classes has to be greater than one; got 1"
     ]
    }
   ],
   "source": [
    "\n",
    "b.fit(X_train2,y_train2)\n",
    "c.fit(X_train3,y_train3)\n",
    "d.fit(X_train4,y_train4)\n",
    "#e.fit(X_train5,y_train5)\n",
    "f.fit(X_train6,y_train6)\n",
    "g.fit(X_train7,y_train7)\n",
    "h.fit(X_train8,y_train8)\n",
    "i.fit(X_train9,y_train9)\n",
    "j.fit(X_train10,y_train10)\n",
    "k.fit(X_train11,y_train11)\n",
    "l.fit(X_train12,y_train12)\n",
    "m.fit(X_train13,y_train13)\n",
    "n.fit(X_train14,y_train14)"
   ]
  },
  {
   "cell_type": "code",
   "execution_count": 31,
   "metadata": {},
   "outputs": [
    {
     "name": "stdout",
     "output_type": "stream",
     "text": [
      "0.0\n",
      "0.0\n",
      "0.0\n",
      "0.0\n",
      "0.13636363636363635\n",
      "1.3636363636363635\n",
      "0.13636363636363635\n",
      "0.0\n"
     ]
    },
    {
     "ename": "NotFittedError",
     "evalue": "This SVC instance is not fitted yet. Call 'fit' with appropriate arguments before using this method.",
     "output_type": "error",
     "traceback": [
      "\u001b[1;31m---------------------------------------------------------------------------\u001b[0m",
      "\u001b[1;31mNotFittedError\u001b[0m                            Traceback (most recent call last)",
      "\u001b[1;32m<ipython-input-31-a64e0efafe35>\u001b[0m in \u001b[0;36m<module>\u001b[1;34m()\u001b[0m\n\u001b[0;32m      8\u001b[0m \u001b[0mprint\u001b[0m\u001b[1;33m(\u001b[0m\u001b[0mi\u001b[0m\u001b[1;33m.\u001b[0m\u001b[0mscore\u001b[0m\u001b[1;33m(\u001b[0m\u001b[0mX_test9\u001b[0m\u001b[1;33m,\u001b[0m\u001b[0my_test9\u001b[0m\u001b[1;33m)\u001b[0m\u001b[1;33m)\u001b[0m\u001b[1;33m\u001b[0m\u001b[0m\n\u001b[0;32m      9\u001b[0m \u001b[0mprint\u001b[0m\u001b[1;33m(\u001b[0m\u001b[0mj\u001b[0m\u001b[1;33m.\u001b[0m\u001b[0mscore\u001b[0m\u001b[1;33m(\u001b[0m\u001b[0mX_test10\u001b[0m\u001b[1;33m,\u001b[0m\u001b[0my_test10\u001b[0m\u001b[1;33m)\u001b[0m\u001b[1;33m*\u001b[0m\u001b[1;36m10\u001b[0m\u001b[1;33m)\u001b[0m\u001b[1;33m\u001b[0m\u001b[0m\n\u001b[1;32m---> 10\u001b[1;33m \u001b[0mprint\u001b[0m\u001b[1;33m(\u001b[0m\u001b[0mk\u001b[0m\u001b[1;33m.\u001b[0m\u001b[0mscore\u001b[0m\u001b[1;33m(\u001b[0m\u001b[0mX_test11\u001b[0m\u001b[1;33m,\u001b[0m\u001b[0my_test11\u001b[0m\u001b[1;33m)\u001b[0m\u001b[1;33m)\u001b[0m\u001b[1;33m\u001b[0m\u001b[0m\n\u001b[0m\u001b[0;32m     11\u001b[0m \u001b[0mprint\u001b[0m\u001b[1;33m(\u001b[0m\u001b[0ml\u001b[0m\u001b[1;33m.\u001b[0m\u001b[0mscore\u001b[0m\u001b[1;33m(\u001b[0m\u001b[0mX_test12\u001b[0m\u001b[1;33m,\u001b[0m\u001b[0my_test12\u001b[0m\u001b[1;33m)\u001b[0m\u001b[1;33m)\u001b[0m\u001b[1;33m\u001b[0m\u001b[0m\n\u001b[0;32m     12\u001b[0m \u001b[0mprint\u001b[0m\u001b[1;33m(\u001b[0m\u001b[0mm\u001b[0m\u001b[1;33m.\u001b[0m\u001b[0mscore\u001b[0m\u001b[1;33m(\u001b[0m\u001b[0mX_test13\u001b[0m\u001b[1;33m,\u001b[0m\u001b[0my_test13\u001b[0m\u001b[1;33m)\u001b[0m\u001b[1;33m)\u001b[0m\u001b[1;33m\u001b[0m\u001b[0m\n",
      "\u001b[1;32m~\\Anaconda3\\lib\\site-packages\\sklearn\\base.py\u001b[0m in \u001b[0;36mscore\u001b[1;34m(self, X, y, sample_weight)\u001b[0m\n\u001b[0;32m    347\u001b[0m         \"\"\"\n\u001b[0;32m    348\u001b[0m         \u001b[1;32mfrom\u001b[0m \u001b[1;33m.\u001b[0m\u001b[0mmetrics\u001b[0m \u001b[1;32mimport\u001b[0m \u001b[0maccuracy_score\u001b[0m\u001b[1;33m\u001b[0m\u001b[0m\n\u001b[1;32m--> 349\u001b[1;33m         \u001b[1;32mreturn\u001b[0m \u001b[0maccuracy_score\u001b[0m\u001b[1;33m(\u001b[0m\u001b[0my\u001b[0m\u001b[1;33m,\u001b[0m \u001b[0mself\u001b[0m\u001b[1;33m.\u001b[0m\u001b[0mpredict\u001b[0m\u001b[1;33m(\u001b[0m\u001b[0mX\u001b[0m\u001b[1;33m)\u001b[0m\u001b[1;33m,\u001b[0m \u001b[0msample_weight\u001b[0m\u001b[1;33m=\u001b[0m\u001b[0msample_weight\u001b[0m\u001b[1;33m)\u001b[0m\u001b[1;33m\u001b[0m\u001b[0m\n\u001b[0m\u001b[0;32m    350\u001b[0m \u001b[1;33m\u001b[0m\u001b[0m\n\u001b[0;32m    351\u001b[0m \u001b[1;33m\u001b[0m\u001b[0m\n",
      "\u001b[1;32m~\\Anaconda3\\lib\\site-packages\\sklearn\\svm\\base.py\u001b[0m in \u001b[0;36mpredict\u001b[1;34m(self, X)\u001b[0m\n\u001b[0;32m    546\u001b[0m             \u001b[0mClass\u001b[0m \u001b[0mlabels\u001b[0m \u001b[1;32mfor\u001b[0m \u001b[0msamples\u001b[0m \u001b[1;32min\u001b[0m \u001b[0mX\u001b[0m\u001b[1;33m.\u001b[0m\u001b[1;33m\u001b[0m\u001b[0m\n\u001b[0;32m    547\u001b[0m         \"\"\"\n\u001b[1;32m--> 548\u001b[1;33m         \u001b[0my\u001b[0m \u001b[1;33m=\u001b[0m \u001b[0msuper\u001b[0m\u001b[1;33m(\u001b[0m\u001b[0mBaseSVC\u001b[0m\u001b[1;33m,\u001b[0m \u001b[0mself\u001b[0m\u001b[1;33m)\u001b[0m\u001b[1;33m.\u001b[0m\u001b[0mpredict\u001b[0m\u001b[1;33m(\u001b[0m\u001b[0mX\u001b[0m\u001b[1;33m)\u001b[0m\u001b[1;33m\u001b[0m\u001b[0m\n\u001b[0m\u001b[0;32m    549\u001b[0m         \u001b[1;32mreturn\u001b[0m \u001b[0mself\u001b[0m\u001b[1;33m.\u001b[0m\u001b[0mclasses_\u001b[0m\u001b[1;33m.\u001b[0m\u001b[0mtake\u001b[0m\u001b[1;33m(\u001b[0m\u001b[0mnp\u001b[0m\u001b[1;33m.\u001b[0m\u001b[0masarray\u001b[0m\u001b[1;33m(\u001b[0m\u001b[0my\u001b[0m\u001b[1;33m,\u001b[0m \u001b[0mdtype\u001b[0m\u001b[1;33m=\u001b[0m\u001b[0mnp\u001b[0m\u001b[1;33m.\u001b[0m\u001b[0mintp\u001b[0m\u001b[1;33m)\u001b[0m\u001b[1;33m)\u001b[0m\u001b[1;33m\u001b[0m\u001b[0m\n\u001b[0;32m    550\u001b[0m \u001b[1;33m\u001b[0m\u001b[0m\n",
      "\u001b[1;32m~\\Anaconda3\\lib\\site-packages\\sklearn\\svm\\base.py\u001b[0m in \u001b[0;36mpredict\u001b[1;34m(self, X)\u001b[0m\n\u001b[0;32m    306\u001b[0m         \u001b[0my_pred\u001b[0m \u001b[1;33m:\u001b[0m \u001b[0marray\u001b[0m\u001b[1;33m,\u001b[0m \u001b[0mshape\u001b[0m \u001b[1;33m(\u001b[0m\u001b[0mn_samples\u001b[0m\u001b[1;33m,\u001b[0m\u001b[1;33m)\u001b[0m\u001b[1;33m\u001b[0m\u001b[0m\n\u001b[0;32m    307\u001b[0m         \"\"\"\n\u001b[1;32m--> 308\u001b[1;33m         \u001b[0mX\u001b[0m \u001b[1;33m=\u001b[0m \u001b[0mself\u001b[0m\u001b[1;33m.\u001b[0m\u001b[0m_validate_for_predict\u001b[0m\u001b[1;33m(\u001b[0m\u001b[0mX\u001b[0m\u001b[1;33m)\u001b[0m\u001b[1;33m\u001b[0m\u001b[0m\n\u001b[0m\u001b[0;32m    309\u001b[0m         \u001b[0mpredict\u001b[0m \u001b[1;33m=\u001b[0m \u001b[0mself\u001b[0m\u001b[1;33m.\u001b[0m\u001b[0m_sparse_predict\u001b[0m \u001b[1;32mif\u001b[0m \u001b[0mself\u001b[0m\u001b[1;33m.\u001b[0m\u001b[0m_sparse\u001b[0m \u001b[1;32melse\u001b[0m \u001b[0mself\u001b[0m\u001b[1;33m.\u001b[0m\u001b[0m_dense_predict\u001b[0m\u001b[1;33m\u001b[0m\u001b[0m\n\u001b[0;32m    310\u001b[0m         \u001b[1;32mreturn\u001b[0m \u001b[0mpredict\u001b[0m\u001b[1;33m(\u001b[0m\u001b[0mX\u001b[0m\u001b[1;33m)\u001b[0m\u001b[1;33m\u001b[0m\u001b[0m\n",
      "\u001b[1;32m~\\Anaconda3\\lib\\site-packages\\sklearn\\svm\\base.py\u001b[0m in \u001b[0;36m_validate_for_predict\u001b[1;34m(self, X)\u001b[0m\n\u001b[0;32m    435\u001b[0m \u001b[1;33m\u001b[0m\u001b[0m\n\u001b[0;32m    436\u001b[0m     \u001b[1;32mdef\u001b[0m \u001b[0m_validate_for_predict\u001b[0m\u001b[1;33m(\u001b[0m\u001b[0mself\u001b[0m\u001b[1;33m,\u001b[0m \u001b[0mX\u001b[0m\u001b[1;33m)\u001b[0m\u001b[1;33m:\u001b[0m\u001b[1;33m\u001b[0m\u001b[0m\n\u001b[1;32m--> 437\u001b[1;33m         \u001b[0mcheck_is_fitted\u001b[0m\u001b[1;33m(\u001b[0m\u001b[0mself\u001b[0m\u001b[1;33m,\u001b[0m \u001b[1;34m'support_'\u001b[0m\u001b[1;33m)\u001b[0m\u001b[1;33m\u001b[0m\u001b[0m\n\u001b[0m\u001b[0;32m    438\u001b[0m \u001b[1;33m\u001b[0m\u001b[0m\n\u001b[0;32m    439\u001b[0m         \u001b[0mX\u001b[0m \u001b[1;33m=\u001b[0m \u001b[0mcheck_array\u001b[0m\u001b[1;33m(\u001b[0m\u001b[0mX\u001b[0m\u001b[1;33m,\u001b[0m \u001b[0maccept_sparse\u001b[0m\u001b[1;33m=\u001b[0m\u001b[1;34m'csr'\u001b[0m\u001b[1;33m,\u001b[0m \u001b[0mdtype\u001b[0m\u001b[1;33m=\u001b[0m\u001b[0mnp\u001b[0m\u001b[1;33m.\u001b[0m\u001b[0mfloat64\u001b[0m\u001b[1;33m,\u001b[0m \u001b[0morder\u001b[0m\u001b[1;33m=\u001b[0m\u001b[1;34m\"C\"\u001b[0m\u001b[1;33m)\u001b[0m\u001b[1;33m\u001b[0m\u001b[0m\n",
      "\u001b[1;32m~\\Anaconda3\\lib\\site-packages\\sklearn\\utils\\validation.py\u001b[0m in \u001b[0;36mcheck_is_fitted\u001b[1;34m(estimator, attributes, msg, all_or_any)\u001b[0m\n\u001b[0;32m    766\u001b[0m \u001b[1;33m\u001b[0m\u001b[0m\n\u001b[0;32m    767\u001b[0m     \u001b[1;32mif\u001b[0m \u001b[1;32mnot\u001b[0m \u001b[0mall_or_any\u001b[0m\u001b[1;33m(\u001b[0m\u001b[1;33m[\u001b[0m\u001b[0mhasattr\u001b[0m\u001b[1;33m(\u001b[0m\u001b[0mestimator\u001b[0m\u001b[1;33m,\u001b[0m \u001b[0mattr\u001b[0m\u001b[1;33m)\u001b[0m \u001b[1;32mfor\u001b[0m \u001b[0mattr\u001b[0m \u001b[1;32min\u001b[0m \u001b[0mattributes\u001b[0m\u001b[1;33m]\u001b[0m\u001b[1;33m)\u001b[0m\u001b[1;33m:\u001b[0m\u001b[1;33m\u001b[0m\u001b[0m\n\u001b[1;32m--> 768\u001b[1;33m         \u001b[1;32mraise\u001b[0m \u001b[0mNotFittedError\u001b[0m\u001b[1;33m(\u001b[0m\u001b[0mmsg\u001b[0m \u001b[1;33m%\u001b[0m \u001b[1;33m{\u001b[0m\u001b[1;34m'name'\u001b[0m\u001b[1;33m:\u001b[0m \u001b[0mtype\u001b[0m\u001b[1;33m(\u001b[0m\u001b[0mestimator\u001b[0m\u001b[1;33m)\u001b[0m\u001b[1;33m.\u001b[0m\u001b[0m__name__\u001b[0m\u001b[1;33m}\u001b[0m\u001b[1;33m)\u001b[0m\u001b[1;33m\u001b[0m\u001b[0m\n\u001b[0m\u001b[0;32m    769\u001b[0m \u001b[1;33m\u001b[0m\u001b[0m\n\u001b[0;32m    770\u001b[0m \u001b[1;33m\u001b[0m\u001b[0m\n",
      "\u001b[1;31mNotFittedError\u001b[0m: This SVC instance is not fitted yet. Call 'fit' with appropriate arguments before using this method."
     ]
    }
   ],
   "source": [
    "print(b.score(X_test2,y_test2)*10)\n",
    "print(c.score(X_test3,y_test3)*10)\n",
    "print(d.score(X_test4,y_test4))\n",
    "#print(e.score(X_test5,y_test5)*10)\n",
    "print(f.score(X_test6,y_test6))\n",
    "print(g.score(X_test7,y_test7))\n",
    "print(h.score(X_test8,y_test8)*10)\n",
    "print(i.score(X_test9,y_test9))\n",
    "print(j.score(X_test10,y_test10)*10)\n",
    "print(k.score(X_test11,y_test11))\n",
    "print(l.score(X_test12,y_test12))\n",
    "print(m.score(X_test13,y_test13))\n",
    "print(n.score(X_test14,y_test14))\n"
   ]
  },
  {
   "cell_type": "code",
   "execution_count": null,
   "metadata": {},
   "outputs": [],
   "source": []
  },
  {
   "cell_type": "code",
   "execution_count": null,
   "metadata": {},
   "outputs": [],
   "source": []
  }
 ],
 "metadata": {
  "kernelspec": {
   "display_name": "Python 3",
   "language": "python",
   "name": "python3"
  },
  "language_info": {
   "codemirror_mode": {
    "name": "ipython",
    "version": 3
   },
   "file_extension": ".py",
   "mimetype": "text/x-python",
   "name": "python",
   "nbconvert_exporter": "python",
   "pygments_lexer": "ipython3",
   "version": "3.6.5"
  }
 },
 "nbformat": 4,
 "nbformat_minor": 2
}
