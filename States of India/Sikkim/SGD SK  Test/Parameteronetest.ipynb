{
 "cells": [
  {
   "cell_type": "code",
   "execution_count": 23,
   "metadata": {},
   "outputs": [],
   "source": [
    "import numpy as np\n",
    "import pandas as pd\n"
   ]
  },
  {
   "cell_type": "code",
   "execution_count": 24,
   "metadata": {},
   "outputs": [],
   "source": [
    "a=pd.read_csv('climate Test1.csv')\n",
    "b=pd.read_csv('Soil Test1.csv')\n",
    "c=pd.read_csv('groundwater Test1.csv')\n",
    "d=pd.read_csv('Fertilizers Test1.csv')\n",
    "e=pd.read_csv('Pesticides Test1.csv')\n",
    "f=pd.read_csv('Crop data Test1.csv')"
   ]
  },
  {
   "cell_type": "code",
   "execution_count": 25,
   "metadata": {},
   "outputs": [],
   "source": [
    "climate=pd.DataFrame(a[' Rainfall'])"
   ]
  },
  {
   "cell_type": "code",
   "execution_count": 26,
   "metadata": {},
   "outputs": [],
   "source": [
    "Soil=pd.DataFrame(b['Ph'])"
   ]
  },
  {
   "cell_type": "code",
   "execution_count": 27,
   "metadata": {},
   "outputs": [],
   "source": [
    "Water=pd.DataFrame(c['Rise (Depth of Water)'])"
   ]
  },
  {
   "cell_type": "code",
   "execution_count": 28,
   "metadata": {},
   "outputs": [],
   "source": [
    "Fertilizer=pd.DataFrame(d['NPK(tonnes)'])"
   ]
  },
  {
   "cell_type": "code",
   "execution_count": 29,
   "metadata": {},
   "outputs": [],
   "source": [
    "Pesticides=pd.DataFrame(e['MALATHION(QTY)(kg)'])"
   ]
  },
  {
   "cell_type": "code",
   "execution_count": 30,
   "metadata": {},
   "outputs": [],
   "source": [
    "Crop=pd.DataFrame(f['Rice(kg/hectare)'])"
   ]
  },
  {
   "cell_type": "code",
   "execution_count": 31,
   "metadata": {},
   "outputs": [],
   "source": [
    "Parameterone=pd.concat([climate,Soil,Water,Fertilizer,Pesticides,Crop],axis=1)"
   ]
  },
  {
   "cell_type": "code",
   "execution_count": 32,
   "metadata": {},
   "outputs": [
    {
     "data": {
      "text/html": [
       "<div>\n",
       "<style scoped>\n",
       "    .dataframe tbody tr th:only-of-type {\n",
       "        vertical-align: middle;\n",
       "    }\n",
       "\n",
       "    .dataframe tbody tr th {\n",
       "        vertical-align: top;\n",
       "    }\n",
       "\n",
       "    .dataframe thead th {\n",
       "        text-align: right;\n",
       "    }\n",
       "</style>\n",
       "<table border=\"1\" class=\"dataframe\">\n",
       "  <thead>\n",
       "    <tr style=\"text-align: right;\">\n",
       "      <th></th>\n",
       "      <th>Rainfall</th>\n",
       "      <th>Ph</th>\n",
       "      <th>Rise (Depth of Water)</th>\n",
       "      <th>NPK(tonnes)</th>\n",
       "      <th>MALATHION(QTY)(kg)</th>\n",
       "      <th>Rice(kg/hectare)</th>\n",
       "    </tr>\n",
       "  </thead>\n",
       "  <tbody>\n",
       "    <tr>\n",
       "      <th>0</th>\n",
       "      <td>27039</td>\n",
       "      <td>5.2</td>\n",
       "      <td>30.01</td>\n",
       "      <td>1</td>\n",
       "      <td>1770</td>\n",
       "      <td>1770</td>\n",
       "    </tr>\n",
       "    <tr>\n",
       "      <th>1</th>\n",
       "      <td>24302</td>\n",
       "      <td>6.0</td>\n",
       "      <td>31.01</td>\n",
       "      <td>1</td>\n",
       "      <td>1771</td>\n",
       "      <td>1771</td>\n",
       "    </tr>\n",
       "    <tr>\n",
       "      <th>2</th>\n",
       "      <td>26295</td>\n",
       "      <td>6.1</td>\n",
       "      <td>32.01</td>\n",
       "      <td>1</td>\n",
       "      <td>1772</td>\n",
       "      <td>1772</td>\n",
       "    </tr>\n",
       "    <tr>\n",
       "      <th>3</th>\n",
       "      <td>26610</td>\n",
       "      <td>5.1</td>\n",
       "      <td>33.01</td>\n",
       "      <td>1</td>\n",
       "      <td>1773</td>\n",
       "      <td>1773</td>\n",
       "    </tr>\n",
       "    <tr>\n",
       "      <th>4</th>\n",
       "      <td>27270</td>\n",
       "      <td>5.2</td>\n",
       "      <td>34.01</td>\n",
       "      <td>1</td>\n",
       "      <td>1774</td>\n",
       "      <td>1774</td>\n",
       "    </tr>\n",
       "    <tr>\n",
       "      <th>5</th>\n",
       "      <td>20909</td>\n",
       "      <td>6.1</td>\n",
       "      <td>35.01</td>\n",
       "      <td>1</td>\n",
       "      <td>1775</td>\n",
       "      <td>1775</td>\n",
       "    </tr>\n",
       "    <tr>\n",
       "      <th>6</th>\n",
       "      <td>25242</td>\n",
       "      <td>5.1</td>\n",
       "      <td>36.01</td>\n",
       "      <td>1</td>\n",
       "      <td>1776</td>\n",
       "      <td>1776</td>\n",
       "    </tr>\n",
       "    <tr>\n",
       "      <th>7</th>\n",
       "      <td>25258</td>\n",
       "      <td>5.2</td>\n",
       "      <td>37.01</td>\n",
       "      <td>1</td>\n",
       "      <td>1777</td>\n",
       "      <td>1777</td>\n",
       "    </tr>\n",
       "    <tr>\n",
       "      <th>8</th>\n",
       "      <td>23531</td>\n",
       "      <td>6.0</td>\n",
       "      <td>38.01</td>\n",
       "      <td>1</td>\n",
       "      <td>1778</td>\n",
       "      <td>1778</td>\n",
       "    </tr>\n",
       "    <tr>\n",
       "      <th>9</th>\n",
       "      <td>25446</td>\n",
       "      <td>6.1</td>\n",
       "      <td>39.01</td>\n",
       "      <td>1</td>\n",
       "      <td>1779</td>\n",
       "      <td>1779</td>\n",
       "    </tr>\n",
       "    <tr>\n",
       "      <th>10</th>\n",
       "      <td>26174</td>\n",
       "      <td>5.1</td>\n",
       "      <td>40.01</td>\n",
       "      <td>1</td>\n",
       "      <td>1780</td>\n",
       "      <td>1780</td>\n",
       "    </tr>\n",
       "    <tr>\n",
       "      <th>11</th>\n",
       "      <td>26357</td>\n",
       "      <td>5.5</td>\n",
       "      <td>41.01</td>\n",
       "      <td>1</td>\n",
       "      <td>1781</td>\n",
       "      <td>1781</td>\n",
       "    </tr>\n",
       "    <tr>\n",
       "      <th>12</th>\n",
       "      <td>24225</td>\n",
       "      <td>6.0</td>\n",
       "      <td>42.01</td>\n",
       "      <td>1</td>\n",
       "      <td>1782</td>\n",
       "      <td>1782</td>\n",
       "    </tr>\n",
       "    <tr>\n",
       "      <th>13</th>\n",
       "      <td>31580</td>\n",
       "      <td>6.1</td>\n",
       "      <td>43.01</td>\n",
       "      <td>1</td>\n",
       "      <td>1783</td>\n",
       "      <td>1783</td>\n",
       "    </tr>\n",
       "    <tr>\n",
       "      <th>14</th>\n",
       "      <td>24780</td>\n",
       "      <td>5.1</td>\n",
       "      <td>44.01</td>\n",
       "      <td>1</td>\n",
       "      <td>1784</td>\n",
       "      <td>1784</td>\n",
       "    </tr>\n",
       "    <tr>\n",
       "      <th>15</th>\n",
       "      <td>22859</td>\n",
       "      <td>5.2</td>\n",
       "      <td>45.01</td>\n",
       "      <td>1</td>\n",
       "      <td>1785</td>\n",
       "      <td>1785</td>\n",
       "    </tr>\n",
       "    <tr>\n",
       "      <th>16</th>\n",
       "      <td>24277</td>\n",
       "      <td>6.0</td>\n",
       "      <td>46.01</td>\n",
       "      <td>1</td>\n",
       "      <td>1786</td>\n",
       "      <td>1786</td>\n",
       "    </tr>\n",
       "    <tr>\n",
       "      <th>17</th>\n",
       "      <td>22195</td>\n",
       "      <td>6.1</td>\n",
       "      <td>47.01</td>\n",
       "      <td>1</td>\n",
       "      <td>1787</td>\n",
       "      <td>1787</td>\n",
       "    </tr>\n",
       "    <tr>\n",
       "      <th>18</th>\n",
       "      <td>25937</td>\n",
       "      <td>5.1</td>\n",
       "      <td>48.01</td>\n",
       "      <td>1</td>\n",
       "      <td>1788</td>\n",
       "      <td>1788</td>\n",
       "    </tr>\n",
       "    <tr>\n",
       "      <th>19</th>\n",
       "      <td>23734</td>\n",
       "      <td>5.2</td>\n",
       "      <td>49.01</td>\n",
       "      <td>1</td>\n",
       "      <td>1789</td>\n",
       "      <td>1789</td>\n",
       "    </tr>\n",
       "    <tr>\n",
       "      <th>20</th>\n",
       "      <td>26172</td>\n",
       "      <td>6.1</td>\n",
       "      <td>50.01</td>\n",
       "      <td>1</td>\n",
       "      <td>1790</td>\n",
       "      <td>1790</td>\n",
       "    </tr>\n",
       "    <tr>\n",
       "      <th>21</th>\n",
       "      <td>25268</td>\n",
       "      <td>5.1</td>\n",
       "      <td>51.01</td>\n",
       "      <td>1</td>\n",
       "      <td>1791</td>\n",
       "      <td>1791</td>\n",
       "    </tr>\n",
       "    <tr>\n",
       "      <th>22</th>\n",
       "      <td>20925</td>\n",
       "      <td>5.2</td>\n",
       "      <td>52.01</td>\n",
       "      <td>1</td>\n",
       "      <td>1792</td>\n",
       "      <td>1792</td>\n",
       "    </tr>\n",
       "    <tr>\n",
       "      <th>23</th>\n",
       "      <td>26813</td>\n",
       "      <td>6.0</td>\n",
       "      <td>53.01</td>\n",
       "      <td>1</td>\n",
       "      <td>1793</td>\n",
       "      <td>1793</td>\n",
       "    </tr>\n",
       "    <tr>\n",
       "      <th>24</th>\n",
       "      <td>26389</td>\n",
       "      <td>6.1</td>\n",
       "      <td>54.01</td>\n",
       "      <td>1</td>\n",
       "      <td>1794</td>\n",
       "      <td>1794</td>\n",
       "    </tr>\n",
       "    <tr>\n",
       "      <th>25</th>\n",
       "      <td>30027</td>\n",
       "      <td>5.1</td>\n",
       "      <td>55.01</td>\n",
       "      <td>1</td>\n",
       "      <td>1795</td>\n",
       "      <td>1795</td>\n",
       "    </tr>\n",
       "    <tr>\n",
       "      <th>26</th>\n",
       "      <td>21879</td>\n",
       "      <td>5.2</td>\n",
       "      <td>56.01</td>\n",
       "      <td>1</td>\n",
       "      <td>1796</td>\n",
       "      <td>1796</td>\n",
       "    </tr>\n",
       "    <tr>\n",
       "      <th>27</th>\n",
       "      <td>29589</td>\n",
       "      <td>6.1</td>\n",
       "      <td>57.01</td>\n",
       "      <td>1</td>\n",
       "      <td>1797</td>\n",
       "      <td>1797</td>\n",
       "    </tr>\n",
       "    <tr>\n",
       "      <th>28</th>\n",
       "      <td>21815</td>\n",
       "      <td>5.1</td>\n",
       "      <td>58.01</td>\n",
       "      <td>1</td>\n",
       "      <td>1798</td>\n",
       "      <td>1798</td>\n",
       "    </tr>\n",
       "    <tr>\n",
       "      <th>29</th>\n",
       "      <td>24218</td>\n",
       "      <td>5.2</td>\n",
       "      <td>59.01</td>\n",
       "      <td>1</td>\n",
       "      <td>1799</td>\n",
       "      <td>1799</td>\n",
       "    </tr>\n",
       "    <tr>\n",
       "      <th>30</th>\n",
       "      <td>26876</td>\n",
       "      <td>6.0</td>\n",
       "      <td>60.01</td>\n",
       "      <td>1</td>\n",
       "      <td>1800</td>\n",
       "      <td>1800</td>\n",
       "    </tr>\n",
       "  </tbody>\n",
       "</table>\n",
       "</div>"
      ],
      "text/plain": [
       "     Rainfall   Ph  Rise (Depth of Water)  NPK(tonnes)  MALATHION(QTY)(kg)  \\\n",
       "0       27039  5.2                  30.01            1                1770   \n",
       "1       24302  6.0                  31.01            1                1771   \n",
       "2       26295  6.1                  32.01            1                1772   \n",
       "3       26610  5.1                  33.01            1                1773   \n",
       "4       27270  5.2                  34.01            1                1774   \n",
       "5       20909  6.1                  35.01            1                1775   \n",
       "6       25242  5.1                  36.01            1                1776   \n",
       "7       25258  5.2                  37.01            1                1777   \n",
       "8       23531  6.0                  38.01            1                1778   \n",
       "9       25446  6.1                  39.01            1                1779   \n",
       "10      26174  5.1                  40.01            1                1780   \n",
       "11      26357  5.5                  41.01            1                1781   \n",
       "12      24225  6.0                  42.01            1                1782   \n",
       "13      31580  6.1                  43.01            1                1783   \n",
       "14      24780  5.1                  44.01            1                1784   \n",
       "15      22859  5.2                  45.01            1                1785   \n",
       "16      24277  6.0                  46.01            1                1786   \n",
       "17      22195  6.1                  47.01            1                1787   \n",
       "18      25937  5.1                  48.01            1                1788   \n",
       "19      23734  5.2                  49.01            1                1789   \n",
       "20      26172  6.1                  50.01            1                1790   \n",
       "21      25268  5.1                  51.01            1                1791   \n",
       "22      20925  5.2                  52.01            1                1792   \n",
       "23      26813  6.0                  53.01            1                1793   \n",
       "24      26389  6.1                  54.01            1                1794   \n",
       "25      30027  5.1                  55.01            1                1795   \n",
       "26      21879  5.2                  56.01            1                1796   \n",
       "27      29589  6.1                  57.01            1                1797   \n",
       "28      21815  5.1                  58.01            1                1798   \n",
       "29      24218  5.2                  59.01            1                1799   \n",
       "30      26876  6.0                  60.01            1                1800   \n",
       "\n",
       "    Rice(kg/hectare)  \n",
       "0               1770  \n",
       "1               1771  \n",
       "2               1772  \n",
       "3               1773  \n",
       "4               1774  \n",
       "5               1775  \n",
       "6               1776  \n",
       "7               1777  \n",
       "8               1778  \n",
       "9               1779  \n",
       "10              1780  \n",
       "11              1781  \n",
       "12              1782  \n",
       "13              1783  \n",
       "14              1784  \n",
       "15              1785  \n",
       "16              1786  \n",
       "17              1787  \n",
       "18              1788  \n",
       "19              1789  \n",
       "20              1790  \n",
       "21              1791  \n",
       "22              1792  \n",
       "23              1793  \n",
       "24              1794  \n",
       "25              1795  \n",
       "26              1796  \n",
       "27              1797  \n",
       "28              1798  \n",
       "29              1799  \n",
       "30              1800  "
      ]
     },
     "execution_count": 32,
     "metadata": {},
     "output_type": "execute_result"
    }
   ],
   "source": [
    "Parameterone"
   ]
  },
  {
   "cell_type": "code",
   "execution_count": 33,
   "metadata": {},
   "outputs": [],
   "source": [
    "#################Ada Boost Classifier##################"
   ]
  },
  {
   "cell_type": "code",
   "execution_count": 34,
   "metadata": {},
   "outputs": [],
   "source": [
    "X=Parameterone.drop('Rice(kg/hectare)',axis=1)\n",
    "y=Parameterone['Rice(kg/hectare)']"
   ]
  },
  {
   "cell_type": "code",
   "execution_count": 35,
   "metadata": {},
   "outputs": [
    {
     "data": {
      "text/plain": [
       "Index([' Rainfall', 'Ph', 'Rise (Depth of Water)', 'NPK(tonnes)',\n",
       "       'MALATHION(QTY)(kg)', 'Rice(kg/hectare)'],\n",
       "      dtype='object')"
      ]
     },
     "execution_count": 35,
     "metadata": {},
     "output_type": "execute_result"
    }
   ],
   "source": [
    "Parameterone.columns"
   ]
  },
  {
   "cell_type": "code",
   "execution_count": 36,
   "metadata": {},
   "outputs": [],
   "source": [
    "from sklearn.model_selection import train_test_split"
   ]
  },
  {
   "cell_type": "code",
   "execution_count": 37,
   "metadata": {},
   "outputs": [],
   "source": [
    "X_train, X_test, y_train, y_test = train_test_split(X, y, test_size=0.70,random_state=70)"
   ]
  },
  {
   "cell_type": "code",
   "execution_count": 38,
   "metadata": {},
   "outputs": [],
   "source": [
    "from sklearn.linear_model import SGDClassifier"
   ]
  },
  {
   "cell_type": "code",
   "execution_count": 39,
   "metadata": {},
   "outputs": [],
   "source": [
    "a=SGDClassifier()"
   ]
  },
  {
   "cell_type": "code",
   "execution_count": 40,
   "metadata": {},
   "outputs": [],
   "source": [
    "a=a.fit(X_train,y_train)"
   ]
  },
  {
   "cell_type": "code",
   "execution_count": 41,
   "metadata": {},
   "outputs": [
    {
     "name": "stdout",
     "output_type": "stream",
     "text": [
      "0.0\n"
     ]
    }
   ],
   "source": [
    "print(a.score(X_test,y_test)*10)"
   ]
  },
  {
   "cell_type": "code",
   "execution_count": 42,
   "metadata": {},
   "outputs": [
    {
     "data": {
      "text/plain": [
       "Index(['Year', 'Rice(kg/hectare)', 'Ragi', 'Small Millets', 'Banana', 'Ginger',\n",
       "       'Tumeric', 'Maize', 'Potato', 'Wheat', 'Other Pulses', 'Barley'],\n",
       "      dtype='object')"
      ]
     },
     "execution_count": 42,
     "metadata": {},
     "output_type": "execute_result"
    }
   ],
   "source": [
    "f.columns"
   ]
  },
  {
   "cell_type": "code",
   "execution_count": 43,
   "metadata": {},
   "outputs": [],
   "source": [
    "Crop2=pd.DataFrame(f['Ragi'])\n",
    "Crop3=pd.DataFrame(f['Small Millets'])\n",
    "Crop4=pd.DataFrame(f['Banana'])\n",
    "Crop5=pd.DataFrame(f['Ginger'])\n",
    "Crop6=pd.DataFrame(f['Tumeric'])\n",
    "Crop7=pd.DataFrame(f['Maize'])\n",
    "Crop8=pd.DataFrame(f['Potato'])\n",
    "Crop9=pd.DataFrame(f['Wheat'])\n",
    "Crop10=pd.DataFrame(f['Other Pulses'])\n",
    "Crop11=pd.DataFrame(f['Barley'])"
   ]
  },
  {
   "cell_type": "code",
   "execution_count": 44,
   "metadata": {},
   "outputs": [],
   "source": [
    "Parameteronea=pd.concat([climate,Soil,Water,Fertilizer,Pesticides,Crop2],axis=1)\n",
    "Parameteroneb=pd.concat([climate,Soil,Water,Fertilizer,Pesticides,Crop3],axis=1)\n",
    "Parameteronec=pd.concat([climate,Soil,Water,Fertilizer,Pesticides,Crop4],axis=1)\n",
    "Parameteroned=pd.concat([climate,Soil,Water,Fertilizer,Pesticides,Crop5],axis=1)\n",
    "Parameteronee=pd.concat([climate,Soil,Water,Fertilizer,Pesticides,Crop6],axis=1)\n",
    "Parameteronef=pd.concat([climate,Soil,Water,Fertilizer,Pesticides,Crop7],axis=1)\n",
    "Parameteroneg=pd.concat([climate,Soil,Water,Fertilizer,Pesticides,Crop8],axis=1)\n",
    "Parameteroneh=pd.concat([climate,Soil,Water,Fertilizer,Pesticides,Crop9],axis=1)\n",
    "Parameteronei=pd.concat([climate,Soil,Water,Fertilizer,Pesticides,Crop10],axis=1)\n",
    "Parameteronej=pd.concat([climate,Soil,Water,Fertilizer,Pesticides,Crop11],axis=1)\n"
   ]
  },
  {
   "cell_type": "code",
   "execution_count": 45,
   "metadata": {},
   "outputs": [],
   "source": [
    "X1=Parameteronea.drop('Ragi',axis=1)\n",
    "y1=Parameteronea['Ragi']\n",
    "\n",
    "X2=Parameteroneb.drop('Small Millets',axis=1)\n",
    "y2=Parameteroneb['Small Millets']\n",
    "\n",
    "X3=Parameteronec.drop('Banana',axis=1)\n",
    "y3=Parameteronec['Banana']\n",
    "\n",
    "X4=Parameteroned.drop('Ginger',axis=1)\n",
    "y4=Parameteroned['Ginger']\n",
    "\n",
    "X5=Parameteronee.drop('Tumeric',axis=1)\n",
    "y5=Parameteronee['Tumeric']\n",
    "\n",
    "X6=Parameteronef.drop('Maize',axis=1)\n",
    "y6=Parameteronef['Maize']\n",
    "\n",
    "X7=Parameteroneg.drop('Potato',axis=1)\n",
    "y7=Parameteroneg['Potato']\n",
    "\n",
    "X8=Parameteroneh.drop('Wheat',axis=1)\n",
    "y8=Parameteroneh['Wheat']\n",
    "\n",
    "X9=Parameteronei.drop('Other Pulses',axis=1)\n",
    "y9=Parameteronei['Other Pulses']\n",
    "\n",
    "X10=Parameteronej.drop('Barley',axis=1)\n",
    "y10=Parameteronej['Barley']"
   ]
  },
  {
   "cell_type": "code",
   "execution_count": 46,
   "metadata": {},
   "outputs": [],
   "source": [
    "from sklearn.model_selection import train_test_split"
   ]
  },
  {
   "cell_type": "code",
   "execution_count": 47,
   "metadata": {},
   "outputs": [],
   "source": [
    "X_train1, X_test1, y_train1, y_test1 = train_test_split(X1, y1, test_size=0.70,random_state=70)\n",
    "X_train2, X_test2, y_train2, y_test2 = train_test_split(X2, y2, test_size=0.70,random_state=70)\n",
    "X_train3, X_test3, y_train3, y_test3 = train_test_split(X3, y3, test_size=0.70,random_state=70)\n",
    "X_train4, X_test4, y_train4, y_test4 = train_test_split(X4, y4, test_size=0.70,random_state=70)\n",
    "X_train5, X_test5, y_train5, y_test5 = train_test_split(X5, y5, test_size=0.70,random_state=70)\n",
    "X_train6, X_test6, y_train6, y_test6 = train_test_split(X6, y6, test_size=0.70,random_state=70)\n",
    "X_train7, X_test7, y_train7, y_test7 = train_test_split(X7, y7, test_size=0.70,random_state=70)\n",
    "X_train8, X_test8, y_train8, y_test8 = train_test_split(X8, y8, test_size=0.70,random_state=70)\n",
    "X_train9, X_test9, y_train9, y_test9 = train_test_split(X9, y9, test_size=0.70,random_state=70)\n",
    "X_train10, X_test10, y_train10, y_test10 = train_test_split(X10, y10, test_size=0.70,random_state=70)\n"
   ]
  },
  {
   "cell_type": "code",
   "execution_count": 48,
   "metadata": {},
   "outputs": [],
   "source": [
    "from sklearn.linear_model import SGDClassifier"
   ]
  },
  {
   "cell_type": "code",
   "execution_count": 49,
   "metadata": {},
   "outputs": [],
   "source": [
    "\n",
    "b=SGDClassifier()\n",
    "c=SGDClassifier()\n",
    "d=SGDClassifier()\n",
    "e=SGDClassifier()\n",
    "f=SGDClassifier()\n",
    "g=SGDClassifier()\n",
    "h=SGDClassifier()\n",
    "i=SGDClassifier()\n",
    "j=SGDClassifier()\n",
    "k=SGDClassifier()"
   ]
  },
  {
   "cell_type": "code",
   "execution_count": 50,
   "metadata": {},
   "outputs": [
    {
     "data": {
      "text/plain": [
       "AdaBoostClassifier(algorithm='SAMME.R', base_estimator=None,\n",
       "          learning_rate=1.0, n_estimators=50, random_state=None)"
      ]
     },
     "execution_count": 50,
     "metadata": {},
     "output_type": "execute_result"
    }
   ],
   "source": [
    "b.fit(X_train1,y_train1)\n",
    "c.fit(X_train2,y_train2)\n",
    "d.fit(X_train3,y_train3)\n",
    "e.fit(X_train4,y_train4)\n",
    "f.fit(X_train5,y_train5)\n",
    "g.fit(X_train6,y_train6)\n",
    "h.fit(X_train7,y_train7)\n",
    "i.fit(X_train8,y_train8)\n",
    "j.fit(X_train9,y_train9)\n",
    "k.fit(X_train10,y_train10)\n"
   ]
  },
  {
   "cell_type": "code",
   "execution_count": 51,
   "metadata": {},
   "outputs": [
    {
     "name": "stdout",
     "output_type": "stream",
     "text": [
      "0.0\n",
      "0.0\n",
      "1.0\n",
      "10.0\n",
      "1.0\n",
      "0.0\n",
      "10.0\n",
      "0.0\n",
      "0.0\n",
      "0.0\n"
     ]
    }
   ],
   "source": [
    "print(b.score(X_test1,y_test1)*10)\n",
    "print(c.score(X_test2,y_test2)*10)\n",
    "print(d.score(X_test3,y_test3))\n",
    "print(e.score(X_test4,y_test4)*10)\n",
    "print(f.score(X_test5,y_test5))\n",
    "print(g.score(X_test6,y_test6))\n",
    "print(h.score(X_test7,y_test7)*10)\n",
    "print(i.score(X_test8,y_test8))\n",
    "print(j.score(X_test9,y_test9)*10)\n",
    "print(k.score(X_test10,y_test10)*10)\n"
   ]
  },
  {
   "cell_type": "code",
   "execution_count": null,
   "metadata": {},
   "outputs": [],
   "source": []
  }
 ],
 "metadata": {
  "kernelspec": {
   "display_name": "Python 3",
   "language": "python",
   "name": "python3"
  },
  "language_info": {
   "codemirror_mode": {
    "name": "ipython",
    "version": 3
   },
   "file_extension": ".py",
   "mimetype": "text/x-python",
   "name": "python",
   "nbconvert_exporter": "python",
   "pygments_lexer": "ipython3",
   "version": "3.6.5"
  }
 },
 "nbformat": 4,
 "nbformat_minor": 2
}
