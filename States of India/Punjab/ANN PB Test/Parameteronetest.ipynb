{
 "cells": [
  {
   "cell_type": "code",
   "execution_count": 27,
   "metadata": {},
   "outputs": [],
   "source": [
    "import numpy as np\n",
    "import pandas as pd\n"
   ]
  },
  {
   "cell_type": "code",
   "execution_count": 28,
   "metadata": {},
   "outputs": [],
   "source": [
    "a=pd.read_csv('climate Test1.csv')\n",
    "b=pd.read_csv('Soil Test1.csv')\n",
    "c=pd.read_csv('groundwater Test1.csv')\n",
    "d=pd.read_csv('Fertilizers Test1.csv')\n",
    "e=pd.read_csv('Pesticides Test1.csv')\n",
    "f=pd.read_csv('Crop data Test1.csv')"
   ]
  },
  {
   "cell_type": "code",
   "execution_count": 29,
   "metadata": {},
   "outputs": [],
   "source": [
    "climate=pd.DataFrame(a[' Rainfall'])"
   ]
  },
  {
   "cell_type": "code",
   "execution_count": 30,
   "metadata": {},
   "outputs": [],
   "source": [
    "Soil=pd.DataFrame(b['Ph'])"
   ]
  },
  {
   "cell_type": "code",
   "execution_count": 31,
   "metadata": {},
   "outputs": [],
   "source": [
    "Water=pd.DataFrame(c['Rise (Depth of Water)'])"
   ]
  },
  {
   "cell_type": "code",
   "execution_count": 32,
   "metadata": {},
   "outputs": [],
   "source": [
    "Fertilizer=pd.DataFrame(d['NPK(tonnes)'])"
   ]
  },
  {
   "cell_type": "code",
   "execution_count": 33,
   "metadata": {},
   "outputs": [],
   "source": [
    "Pesticides=pd.DataFrame(e['MALATHION(QTY)(kg)'])"
   ]
  },
  {
   "cell_type": "code",
   "execution_count": 34,
   "metadata": {},
   "outputs": [],
   "source": [
    "Crop=pd.DataFrame(f['Rice(kg/hectare)'])"
   ]
  },
  {
   "cell_type": "code",
   "execution_count": 35,
   "metadata": {},
   "outputs": [],
   "source": [
    "Parameterone=pd.concat([climate,Soil,Water,Fertilizer,Pesticides,Crop],axis=1)"
   ]
  },
  {
   "cell_type": "code",
   "execution_count": 36,
   "metadata": {},
   "outputs": [
    {
     "data": {
      "text/html": [
       "<div>\n",
       "<style scoped>\n",
       "    .dataframe tbody tr th:only-of-type {\n",
       "        vertical-align: middle;\n",
       "    }\n",
       "\n",
       "    .dataframe tbody tr th {\n",
       "        vertical-align: top;\n",
       "    }\n",
       "\n",
       "    .dataframe thead th {\n",
       "        text-align: right;\n",
       "    }\n",
       "</style>\n",
       "<table border=\"1\" class=\"dataframe\">\n",
       "  <thead>\n",
       "    <tr style=\"text-align: right;\">\n",
       "      <th></th>\n",
       "      <th>Rainfall</th>\n",
       "      <th>Ph</th>\n",
       "      <th>Rise (Depth of Water)</th>\n",
       "      <th>NPK(tonnes)</th>\n",
       "      <th>MALATHION(QTY)(kg)</th>\n",
       "      <th>Rice(kg/hectare)</th>\n",
       "    </tr>\n",
       "  </thead>\n",
       "  <tbody>\n",
       "    <tr>\n",
       "      <th>0</th>\n",
       "      <td>9801</td>\n",
       "      <td>6.7</td>\n",
       "      <td>0.45</td>\n",
       "      <td>2484</td>\n",
       "      <td>4595</td>\n",
       "      <td>3285</td>\n",
       "    </tr>\n",
       "    <tr>\n",
       "      <th>1</th>\n",
       "      <td>4924</td>\n",
       "      <td>7.0</td>\n",
       "      <td>0.45</td>\n",
       "      <td>2485</td>\n",
       "      <td>4596</td>\n",
       "      <td>3286</td>\n",
       "    </tr>\n",
       "    <tr>\n",
       "      <th>2</th>\n",
       "      <td>5258</td>\n",
       "      <td>7.1</td>\n",
       "      <td>0.45</td>\n",
       "      <td>2486</td>\n",
       "      <td>4597</td>\n",
       "      <td>3287</td>\n",
       "    </tr>\n",
       "    <tr>\n",
       "      <th>3</th>\n",
       "      <td>6626</td>\n",
       "      <td>7.2</td>\n",
       "      <td>0.45</td>\n",
       "      <td>2487</td>\n",
       "      <td>4598</td>\n",
       "      <td>3288</td>\n",
       "    </tr>\n",
       "    <tr>\n",
       "      <th>4</th>\n",
       "      <td>6608</td>\n",
       "      <td>7.3</td>\n",
       "      <td>0.45</td>\n",
       "      <td>2488</td>\n",
       "      <td>4599</td>\n",
       "      <td>3289</td>\n",
       "    </tr>\n",
       "    <tr>\n",
       "      <th>5</th>\n",
       "      <td>10464</td>\n",
       "      <td>7.0</td>\n",
       "      <td>0.45</td>\n",
       "      <td>2489</td>\n",
       "      <td>4600</td>\n",
       "      <td>3290</td>\n",
       "    </tr>\n",
       "    <tr>\n",
       "      <th>6</th>\n",
       "      <td>7382</td>\n",
       "      <td>7.1</td>\n",
       "      <td>0.45</td>\n",
       "      <td>2490</td>\n",
       "      <td>4601</td>\n",
       "      <td>3291</td>\n",
       "    </tr>\n",
       "    <tr>\n",
       "      <th>7</th>\n",
       "      <td>6866</td>\n",
       "      <td>7.2</td>\n",
       "      <td>0.45</td>\n",
       "      <td>2491</td>\n",
       "      <td>4602</td>\n",
       "      <td>3292</td>\n",
       "    </tr>\n",
       "    <tr>\n",
       "      <th>8</th>\n",
       "      <td>7651</td>\n",
       "      <td>7.3</td>\n",
       "      <td>0.45</td>\n",
       "      <td>2492</td>\n",
       "      <td>4603</td>\n",
       "      <td>3293</td>\n",
       "    </tr>\n",
       "    <tr>\n",
       "      <th>9</th>\n",
       "      <td>7513</td>\n",
       "      <td>8.5</td>\n",
       "      <td>0.45</td>\n",
       "      <td>2493</td>\n",
       "      <td>4604</td>\n",
       "      <td>3294</td>\n",
       "    </tr>\n",
       "    <tr>\n",
       "      <th>10</th>\n",
       "      <td>6099</td>\n",
       "      <td>8.1</td>\n",
       "      <td>0.45</td>\n",
       "      <td>2494</td>\n",
       "      <td>4605</td>\n",
       "      <td>3295</td>\n",
       "    </tr>\n",
       "    <tr>\n",
       "      <th>11</th>\n",
       "      <td>8061</td>\n",
       "      <td>8.2</td>\n",
       "      <td>0.45</td>\n",
       "      <td>2495</td>\n",
       "      <td>4606</td>\n",
       "      <td>3296</td>\n",
       "    </tr>\n",
       "    <tr>\n",
       "      <th>12</th>\n",
       "      <td>9880</td>\n",
       "      <td>6.5</td>\n",
       "      <td>0.45</td>\n",
       "      <td>2496</td>\n",
       "      <td>4607</td>\n",
       "      <td>3297</td>\n",
       "    </tr>\n",
       "    <tr>\n",
       "      <th>13</th>\n",
       "      <td>5098</td>\n",
       "      <td>6.6</td>\n",
       "      <td>0.45</td>\n",
       "      <td>2497</td>\n",
       "      <td>4608</td>\n",
       "      <td>3298</td>\n",
       "    </tr>\n",
       "    <tr>\n",
       "      <th>14</th>\n",
       "      <td>8308</td>\n",
       "      <td>6.7</td>\n",
       "      <td>0.45</td>\n",
       "      <td>2498</td>\n",
       "      <td>4609</td>\n",
       "      <td>3299</td>\n",
       "    </tr>\n",
       "    <tr>\n",
       "      <th>15</th>\n",
       "      <td>5399</td>\n",
       "      <td>7.0</td>\n",
       "      <td>0.45</td>\n",
       "      <td>2499</td>\n",
       "      <td>4610</td>\n",
       "      <td>3300</td>\n",
       "    </tr>\n",
       "    <tr>\n",
       "      <th>16</th>\n",
       "      <td>6904</td>\n",
       "      <td>7.1</td>\n",
       "      <td>0.45</td>\n",
       "      <td>2500</td>\n",
       "      <td>4611</td>\n",
       "      <td>3301</td>\n",
       "    </tr>\n",
       "    <tr>\n",
       "      <th>17</th>\n",
       "      <td>7201</td>\n",
       "      <td>7.2</td>\n",
       "      <td>0.45</td>\n",
       "      <td>2501</td>\n",
       "      <td>4612</td>\n",
       "      <td>3302</td>\n",
       "    </tr>\n",
       "    <tr>\n",
       "      <th>18</th>\n",
       "      <td>5304</td>\n",
       "      <td>7.3</td>\n",
       "      <td>0.45</td>\n",
       "      <td>2502</td>\n",
       "      <td>4613</td>\n",
       "      <td>3285</td>\n",
       "    </tr>\n",
       "    <tr>\n",
       "      <th>19</th>\n",
       "      <td>4859</td>\n",
       "      <td>8.5</td>\n",
       "      <td>0.45</td>\n",
       "      <td>2503</td>\n",
       "      <td>4614</td>\n",
       "      <td>3286</td>\n",
       "    </tr>\n",
       "    <tr>\n",
       "      <th>20</th>\n",
       "      <td>7152</td>\n",
       "      <td>8.1</td>\n",
       "      <td>0.45</td>\n",
       "      <td>2504</td>\n",
       "      <td>4615</td>\n",
       "      <td>3287</td>\n",
       "    </tr>\n",
       "    <tr>\n",
       "      <th>21</th>\n",
       "      <td>11123</td>\n",
       "      <td>6.6</td>\n",
       "      <td>0.45</td>\n",
       "      <td>2505</td>\n",
       "      <td>4616</td>\n",
       "      <td>3288</td>\n",
       "    </tr>\n",
       "    <tr>\n",
       "      <th>22</th>\n",
       "      <td>4787</td>\n",
       "      <td>6.7</td>\n",
       "      <td>0.45</td>\n",
       "      <td>2506</td>\n",
       "      <td>4617</td>\n",
       "      <td>3289</td>\n",
       "    </tr>\n",
       "    <tr>\n",
       "      <th>23</th>\n",
       "      <td>9407</td>\n",
       "      <td>7.0</td>\n",
       "      <td>0.45</td>\n",
       "      <td>2507</td>\n",
       "      <td>4618</td>\n",
       "      <td>3290</td>\n",
       "    </tr>\n",
       "    <tr>\n",
       "      <th>24</th>\n",
       "      <td>6784</td>\n",
       "      <td>7.1</td>\n",
       "      <td>0.45</td>\n",
       "      <td>2508</td>\n",
       "      <td>4619</td>\n",
       "      <td>3291</td>\n",
       "    </tr>\n",
       "    <tr>\n",
       "      <th>25</th>\n",
       "      <td>9426</td>\n",
       "      <td>7.2</td>\n",
       "      <td>0.45</td>\n",
       "      <td>2509</td>\n",
       "      <td>4620</td>\n",
       "      <td>3292</td>\n",
       "    </tr>\n",
       "    <tr>\n",
       "      <th>26</th>\n",
       "      <td>8292</td>\n",
       "      <td>7.3</td>\n",
       "      <td>0.45</td>\n",
       "      <td>2510</td>\n",
       "      <td>4621</td>\n",
       "      <td>3293</td>\n",
       "    </tr>\n",
       "    <tr>\n",
       "      <th>27</th>\n",
       "      <td>7278</td>\n",
       "      <td>8.5</td>\n",
       "      <td>0.45</td>\n",
       "      <td>2511</td>\n",
       "      <td>4622</td>\n",
       "      <td>3294</td>\n",
       "    </tr>\n",
       "    <tr>\n",
       "      <th>28</th>\n",
       "      <td>7148</td>\n",
       "      <td>8.1</td>\n",
       "      <td>0.45</td>\n",
       "      <td>2512</td>\n",
       "      <td>4623</td>\n",
       "      <td>3295</td>\n",
       "    </tr>\n",
       "    <tr>\n",
       "      <th>29</th>\n",
       "      <td>4897</td>\n",
       "      <td>8.2</td>\n",
       "      <td>0.45</td>\n",
       "      <td>2513</td>\n",
       "      <td>4624</td>\n",
       "      <td>3296</td>\n",
       "    </tr>\n",
       "    <tr>\n",
       "      <th>30</th>\n",
       "      <td>8277</td>\n",
       "      <td>6.5</td>\n",
       "      <td>0.45</td>\n",
       "      <td>2514</td>\n",
       "      <td>4625</td>\n",
       "      <td>3297</td>\n",
       "    </tr>\n",
       "  </tbody>\n",
       "</table>\n",
       "</div>"
      ],
      "text/plain": [
       "     Rainfall   Ph  Rise (Depth of Water)  NPK(tonnes)  MALATHION(QTY)(kg)  \\\n",
       "0        9801  6.7                   0.45         2484                4595   \n",
       "1        4924  7.0                   0.45         2485                4596   \n",
       "2        5258  7.1                   0.45         2486                4597   \n",
       "3        6626  7.2                   0.45         2487                4598   \n",
       "4        6608  7.3                   0.45         2488                4599   \n",
       "5       10464  7.0                   0.45         2489                4600   \n",
       "6        7382  7.1                   0.45         2490                4601   \n",
       "7        6866  7.2                   0.45         2491                4602   \n",
       "8        7651  7.3                   0.45         2492                4603   \n",
       "9        7513  8.5                   0.45         2493                4604   \n",
       "10       6099  8.1                   0.45         2494                4605   \n",
       "11       8061  8.2                   0.45         2495                4606   \n",
       "12       9880  6.5                   0.45         2496                4607   \n",
       "13       5098  6.6                   0.45         2497                4608   \n",
       "14       8308  6.7                   0.45         2498                4609   \n",
       "15       5399  7.0                   0.45         2499                4610   \n",
       "16       6904  7.1                   0.45         2500                4611   \n",
       "17       7201  7.2                   0.45         2501                4612   \n",
       "18       5304  7.3                   0.45         2502                4613   \n",
       "19       4859  8.5                   0.45         2503                4614   \n",
       "20       7152  8.1                   0.45         2504                4615   \n",
       "21      11123  6.6                   0.45         2505                4616   \n",
       "22       4787  6.7                   0.45         2506                4617   \n",
       "23       9407  7.0                   0.45         2507                4618   \n",
       "24       6784  7.1                   0.45         2508                4619   \n",
       "25       9426  7.2                   0.45         2509                4620   \n",
       "26       8292  7.3                   0.45         2510                4621   \n",
       "27       7278  8.5                   0.45         2511                4622   \n",
       "28       7148  8.1                   0.45         2512                4623   \n",
       "29       4897  8.2                   0.45         2513                4624   \n",
       "30       8277  6.5                   0.45         2514                4625   \n",
       "\n",
       "    Rice(kg/hectare)  \n",
       "0               3285  \n",
       "1               3286  \n",
       "2               3287  \n",
       "3               3288  \n",
       "4               3289  \n",
       "5               3290  \n",
       "6               3291  \n",
       "7               3292  \n",
       "8               3293  \n",
       "9               3294  \n",
       "10              3295  \n",
       "11              3296  \n",
       "12              3297  \n",
       "13              3298  \n",
       "14              3299  \n",
       "15              3300  \n",
       "16              3301  \n",
       "17              3302  \n",
       "18              3285  \n",
       "19              3286  \n",
       "20              3287  \n",
       "21              3288  \n",
       "22              3289  \n",
       "23              3290  \n",
       "24              3291  \n",
       "25              3292  \n",
       "26              3293  \n",
       "27              3294  \n",
       "28              3295  \n",
       "29              3296  \n",
       "30              3297  "
      ]
     },
     "execution_count": 36,
     "metadata": {},
     "output_type": "execute_result"
    }
   ],
   "source": [
    "Parameterone"
   ]
  },
  {
   "cell_type": "code",
   "execution_count": 37,
   "metadata": {},
   "outputs": [],
   "source": [
    "#################Ada Boost Classifier##################"
   ]
  },
  {
   "cell_type": "code",
   "execution_count": 38,
   "metadata": {},
   "outputs": [],
   "source": [
    "X=Parameterone.drop('Rice(kg/hectare)',axis=1)\n",
    "y=Parameterone['Rice(kg/hectare)']"
   ]
  },
  {
   "cell_type": "code",
   "execution_count": 39,
   "metadata": {},
   "outputs": [
    {
     "data": {
      "text/plain": [
       "Index([' Rainfall', 'Ph', 'Rise (Depth of Water)', 'NPK(tonnes)',\n",
       "       'MALATHION(QTY)(kg)', 'Rice(kg/hectare)'],\n",
       "      dtype='object')"
      ]
     },
     "execution_count": 39,
     "metadata": {},
     "output_type": "execute_result"
    }
   ],
   "source": [
    "Parameterone.columns"
   ]
  },
  {
   "cell_type": "code",
   "execution_count": 40,
   "metadata": {},
   "outputs": [],
   "source": [
    "from sklearn.model_selection import train_test_split"
   ]
  },
  {
   "cell_type": "code",
   "execution_count": 41,
   "metadata": {},
   "outputs": [],
   "source": [
    "X_train, X_test, y_train, y_test = train_test_split(X, y, test_size=0.70,random_state=70)"
   ]
  },
  {
   "cell_type": "code",
   "execution_count": 42,
   "metadata": {},
   "outputs": [],
   "source": [
    "from sklearn.neural_network import MLPClassifier\n"
   ]
  },
  {
   "cell_type": "code",
   "execution_count": 43,
   "metadata": {},
   "outputs": [],
   "source": [
    "a=MLPClassifier()"
   ]
  },
  {
   "cell_type": "code",
   "execution_count": 44,
   "metadata": {},
   "outputs": [],
   "source": [
    "a=a.fit(X_train,y_train)"
   ]
  },
  {
   "cell_type": "code",
   "execution_count": 45,
   "metadata": {},
   "outputs": [
    {
     "name": "stdout",
     "output_type": "stream",
     "text": [
      "0.4545454545454546\n"
     ]
    }
   ],
   "source": [
    "print(a.score(X_test,y_test)*10)"
   ]
  },
  {
   "cell_type": "code",
   "execution_count": 46,
   "metadata": {},
   "outputs": [
    {
     "data": {
      "text/plain": [
       "Index(['Year', 'Rice(kg/hectare)', 'Tur ', 'Gram', 'Groundnuts', 'Sessasum',\n",
       "       'Sugarcane', 'Chillies', 'Bajra', 'Maize', 'Cotton', 'Potato', 'Wheat',\n",
       "       'Other Pulses', 'Barley'],\n",
       "      dtype='object')"
      ]
     },
     "execution_count": 46,
     "metadata": {},
     "output_type": "execute_result"
    }
   ],
   "source": [
    "f.columns"
   ]
  },
  {
   "cell_type": "code",
   "execution_count": 47,
   "metadata": {},
   "outputs": [],
   "source": [
    "Crop2=pd.DataFrame(f['Tur '])\n",
    "Crop3=pd.DataFrame(f['Gram'])\n",
    "Crop4=pd.DataFrame(f['Groundnuts'])\n",
    "Crop5=pd.DataFrame(f['Sessasum'])\n",
    "Crop6=pd.DataFrame(f['Sugarcane'])\n",
    "Crop7=pd.DataFrame(f['Chillies'])\n",
    "Crop8=pd.DataFrame(f['Bajra'])\n",
    "Crop9=pd.DataFrame(f['Maize'])\n",
    "Crop10=pd.DataFrame(f['Cotton'])\n",
    "Crop11=pd.DataFrame(f['Potato'])\n",
    "Crop12=pd.DataFrame(f['Wheat'])\n",
    "Crop13=pd.DataFrame(f['Other Pulses'])\n",
    "Crop14=pd.DataFrame(f['Barley'])\n"
   ]
  },
  {
   "cell_type": "code",
   "execution_count": 48,
   "metadata": {},
   "outputs": [],
   "source": [
    "Parameteronea=pd.concat([climate,Soil,Water,Fertilizer,Pesticides,Crop2],axis=1)\n",
    "Parameteroneb=pd.concat([climate,Soil,Water,Fertilizer,Pesticides,Crop3],axis=1)\n",
    "Parameteronec=pd.concat([climate,Soil,Water,Fertilizer,Pesticides,Crop4],axis=1)\n",
    "Parameteroned=pd.concat([climate,Soil,Water,Fertilizer,Pesticides,Crop5],axis=1)\n",
    "Parameteronee=pd.concat([climate,Soil,Water,Fertilizer,Pesticides,Crop6],axis=1)\n",
    "Parameteronef=pd.concat([climate,Soil,Water,Fertilizer,Pesticides,Crop7],axis=1)\n",
    "Parameteroneg=pd.concat([climate,Soil,Water,Fertilizer,Pesticides,Crop8],axis=1)\n",
    "Parameteroneh=pd.concat([climate,Soil,Water,Fertilizer,Pesticides,Crop9],axis=1)\n",
    "Parameteronei=pd.concat([climate,Soil,Water,Fertilizer,Pesticides,Crop10],axis=1)\n",
    "Parameteronej=pd.concat([climate,Soil,Water,Fertilizer,Pesticides,Crop11],axis=1)\n",
    "Parameteronek=pd.concat([climate,Soil,Water,Fertilizer,Pesticides,Crop12],axis=1)\n",
    "Parameteronel=pd.concat([climate,Soil,Water,Fertilizer,Pesticides,Crop13],axis=1)\n",
    "Parameteronem=pd.concat([climate,Soil,Water,Fertilizer,Pesticides,Crop14],axis=1)\n"
   ]
  },
  {
   "cell_type": "code",
   "execution_count": 49,
   "metadata": {},
   "outputs": [],
   "source": [
    "X1=Parameteronea.drop('Tur ',axis=1)\n",
    "y1=Parameteronea['Tur ']\n",
    "\n",
    "X2=Parameteroneb.drop('Gram',axis=1)\n",
    "y2=Parameteroneb['Gram']\n",
    "\n",
    "X3=Parameteronec.drop('Groundnuts',axis=1)\n",
    "y3=Parameteronec['Groundnuts']\n",
    "\n",
    "X4=Parameteroned.drop('Sessasum',axis=1)\n",
    "y4=Parameteroned['Sessasum']\n",
    "\n",
    "X5=Parameteronee.drop('Sugarcane',axis=1)\n",
    "y5=Parameteronee['Sugarcane']\n",
    "\n",
    "X6=Parameteronef.drop('Chillies',axis=1)\n",
    "y6=Parameteronef['Chillies']\n",
    "\n",
    "X7=Parameteroneg.drop('Bajra',axis=1)\n",
    "y7=Parameteroneg['Bajra']\n",
    "\n",
    "X8=Parameteroneh.drop('Maize',axis=1)\n",
    "y8=Parameteroneh['Maize']\n",
    "\n",
    "X9=Parameteronei.drop('Cotton',axis=1)\n",
    "y9=Parameteronei['Cotton']\n",
    "\n",
    "X10=Parameteronej.drop('Potato',axis=1)\n",
    "y10=Parameteronej['Potato']\n",
    "\n",
    "X11=Parameteronek.drop('Wheat',axis=1)\n",
    "y11=Parameteronek['Wheat']\n",
    "\n",
    "X12=Parameteronel.drop('Other Pulses',axis=1)\n",
    "y12=Parameteronel['Other Pulses']\n",
    "\n",
    "X13=Parameteronem.drop('Barley',axis=1)\n",
    "y13=Parameteronem['Barley']"
   ]
  },
  {
   "cell_type": "code",
   "execution_count": 50,
   "metadata": {},
   "outputs": [],
   "source": [
    "from sklearn.model_selection import train_test_split"
   ]
  },
  {
   "cell_type": "code",
   "execution_count": 51,
   "metadata": {},
   "outputs": [],
   "source": [
    "X_train1, X_test1, y_train1, y_test1 = train_test_split(X1, y1, test_size=0.70,random_state=70)\n",
    "X_train2, X_test2, y_train2, y_test2 = train_test_split(X2, y2, test_size=0.70,random_state=70)\n",
    "X_train3, X_test3, y_train3, y_test3 = train_test_split(X3, y3, test_size=0.70,random_state=70)\n",
    "X_train4, X_test4, y_train4, y_test4 = train_test_split(X4, y4, test_size=0.70,random_state=70)\n",
    "X_train5, X_test5, y_train5, y_test5 = train_test_split(X5, y5, test_size=0.70,random_state=70)\n",
    "X_train6, X_test6, y_train6, y_test6 = train_test_split(X6, y6, test_size=0.70,random_state=70)\n",
    "X_train7, X_test7, y_train7, y_test7 = train_test_split(X7, y7, test_size=0.70,random_state=70)\n",
    "X_train8, X_test8, y_train8, y_test8 = train_test_split(X8, y8, test_size=0.70,random_state=70)\n",
    "X_train9, X_test9, y_train9, y_test9 = train_test_split(X9, y9, test_size=0.70,random_state=70)\n",
    "X_train10, X_test10, y_train10, y_test10 = train_test_split(X10, y10, test_size=0.70,random_state=70)\n",
    "X_train11, X_test11, y_train11, y_test11 = train_test_split(X11, y11, test_size=0.70,random_state=70)\n",
    "X_train12, X_test12, y_train12, y_test12 = train_test_split(X12, y12, test_size=0.70,random_state=70)\n",
    "X_train13, X_test13, y_train13, y_test13 = train_test_split(X13, y13, test_size=0.70,random_state=70)\n"
   ]
  },
  {
   "cell_type": "code",
   "execution_count": 52,
   "metadata": {},
   "outputs": [],
   "source": [
    "from sklearn.neural_network import MLPClassifier\n",
    "\n",
    "\n",
    "b=MLPClassifier()\n",
    "c=MLPClassifier()\n",
    "d=MLPClassifier()\n",
    "e=MLPClassifier()\n",
    "f=MLPClassifier()\n",
    "g=MLPClassifier()\n",
    "h=MLPClassifier()\n",
    "i=MLPClassifier()\n",
    "j=MLPClassifier()\n",
    "k=MLPClassifier()\n",
    "l=MLPClassifier()\n",
    "m=MLPClassifier()\n",
    "n=MLPClassifier()"
   ]
  },
  {
   "cell_type": "code",
   "execution_count": 53,
   "metadata": {},
   "outputs": [
    {
     "data": {
      "text/plain": [
       "MLPClassifier(activation='relu', alpha=0.0001, batch_size='auto', beta_1=0.9,\n",
       "       beta_2=0.999, early_stopping=False, epsilon=1e-08,\n",
       "       hidden_layer_sizes=(100,), learning_rate='constant',\n",
       "       learning_rate_init=0.001, max_iter=200, momentum=0.9,\n",
       "       nesterovs_momentum=True, power_t=0.5, random_state=None,\n",
       "       shuffle=True, solver='adam', tol=0.0001, validation_fraction=0.1,\n",
       "       verbose=False, warm_start=False)"
      ]
     },
     "execution_count": 53,
     "metadata": {},
     "output_type": "execute_result"
    }
   ],
   "source": [
    "b.fit(X_train1,y_train1)\n",
    "c.fit(X_train2,y_train2)\n",
    "d.fit(X_train3,y_train3)\n",
    "e.fit(X_train4,y_train4)\n",
    "f.fit(X_train5,y_train5)\n",
    "g.fit(X_train6,y_train6)\n",
    "h.fit(X_train7,y_train7)\n",
    "i.fit(X_train8,y_train8)\n",
    "j.fit(X_train9,y_train9)\n",
    "k.fit(X_train10,y_train10)\n",
    "l.fit(X_train11,y_train11)\n",
    "m.fit(X_train12,y_train12)\n",
    "n.fit(X_train13,y_train13)\n"
   ]
  },
  {
   "cell_type": "code",
   "execution_count": 56,
   "metadata": {},
   "outputs": [
    {
     "name": "stdout",
     "output_type": "stream",
     "text": [
      "0.0\n",
      "0.0\n",
      "0.045454545454545456\n",
      "0.4545454545454546\n",
      "0.045454545454545456\n",
      "0.5454545454545454\n",
      "0.4545454545454546\n",
      "0.09090909090909091\n",
      "0.4545454545454546\n",
      "0.9090909090909092\n",
      "0.045454545454545456\n",
      "0.0\n",
      "0.045454545454545456\n"
     ]
    }
   ],
   "source": [
    "print(b.score(X_test1,y_test1)*10)\n",
    "print(c.score(X_test2,y_test2)*10)\n",
    "print(d.score(X_test3,y_test3))\n",
    "print(e.score(X_test4,y_test4)*10)\n",
    "print(f.score(X_test5,y_test5))\n",
    "print(g.score(X_test6,y_test6))\n",
    "print(h.score(X_test7,y_test7)*10)\n",
    "print(i.score(X_test8,y_test8))\n",
    "print(j.score(X_test9,y_test9)*10)\n",
    "print(k.score(X_test10,y_test10)*10)\n",
    "print(l.score(X_test11,y_test11))\n",
    "print(m.score(X_test12,y_test12))\n",
    "print(n.score(X_test13,y_test13))\n"
   ]
  },
  {
   "cell_type": "code",
   "execution_count": null,
   "metadata": {},
   "outputs": [],
   "source": []
  },
  {
   "cell_type": "code",
   "execution_count": null,
   "metadata": {},
   "outputs": [],
   "source": []
  }
 ],
 "metadata": {
  "kernelspec": {
   "display_name": "Python 3",
   "language": "python",
   "name": "python3"
  },
  "language_info": {
   "codemirror_mode": {
    "name": "ipython",
    "version": 3
   },
   "file_extension": ".py",
   "mimetype": "text/x-python",
   "name": "python",
   "nbconvert_exporter": "python",
   "pygments_lexer": "ipython3",
   "version": "3.6.5"
  }
 },
 "nbformat": 4,
 "nbformat_minor": 2
}
