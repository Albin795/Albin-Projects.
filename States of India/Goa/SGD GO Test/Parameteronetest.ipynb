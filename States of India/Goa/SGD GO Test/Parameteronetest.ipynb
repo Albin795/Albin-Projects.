{
 "cells": [
  {
   "cell_type": "code",
   "execution_count": 28,
   "metadata": {},
   "outputs": [],
   "source": [
    "import numpy as np\n",
    "import pandas as pd\n"
   ]
  },
  {
   "cell_type": "code",
   "execution_count": 29,
   "metadata": {},
   "outputs": [],
   "source": [
    "a=pd.read_csv('climate Test1.csv')\n",
    "b=pd.read_csv('Soil Test1.csv')\n",
    "c=pd.read_csv('groundwater Test1.csv')\n",
    "d=pd.read_csv('Fertilizers Test1.csv')\n",
    "e=pd.read_csv('Pesticides Test1.csv')\n",
    "f=pd.read_csv('Crop data Test1.csv')"
   ]
  },
  {
   "cell_type": "code",
   "execution_count": 30,
   "metadata": {},
   "outputs": [],
   "source": [
    "climate=pd.DataFrame(a[' Rainfall'])"
   ]
  },
  {
   "cell_type": "code",
   "execution_count": 31,
   "metadata": {},
   "outputs": [],
   "source": [
    "Soil=pd.DataFrame(b['Ph'])"
   ]
  },
  {
   "cell_type": "code",
   "execution_count": 32,
   "metadata": {},
   "outputs": [],
   "source": [
    "Water=pd.DataFrame(c['Rise (Depth of Water)'])"
   ]
  },
  {
   "cell_type": "code",
   "execution_count": 33,
   "metadata": {},
   "outputs": [],
   "source": [
    "Fertilizer=pd.DataFrame(d['NPK(tonnes)'])"
   ]
  },
  {
   "cell_type": "code",
   "execution_count": 34,
   "metadata": {},
   "outputs": [],
   "source": [
    "Pesticides=pd.DataFrame(e['MALATHION(QTY)(kg)'])"
   ]
  },
  {
   "cell_type": "code",
   "execution_count": 35,
   "metadata": {},
   "outputs": [],
   "source": [
    "Crop=pd.DataFrame(f['Rice(kg/hectare)'])"
   ]
  },
  {
   "cell_type": "code",
   "execution_count": 36,
   "metadata": {},
   "outputs": [],
   "source": [
    "Parameterone=pd.concat([climate,Soil,Water,Fertilizer,Pesticides,Crop],axis=1)"
   ]
  },
  {
   "cell_type": "code",
   "execution_count": 37,
   "metadata": {},
   "outputs": [
    {
     "data": {
      "text/html": [
       "<div>\n",
       "<style scoped>\n",
       "    .dataframe tbody tr th:only-of-type {\n",
       "        vertical-align: middle;\n",
       "    }\n",
       "\n",
       "    .dataframe tbody tr th {\n",
       "        vertical-align: top;\n",
       "    }\n",
       "\n",
       "    .dataframe thead th {\n",
       "        text-align: right;\n",
       "    }\n",
       "</style>\n",
       "<table border=\"1\" class=\"dataframe\">\n",
       "  <thead>\n",
       "    <tr style=\"text-align: right;\">\n",
       "      <th></th>\n",
       "      <th>Rainfall</th>\n",
       "      <th>Ph</th>\n",
       "      <th>Rise (Depth of Water)</th>\n",
       "      <th>NPK(tonnes)</th>\n",
       "      <th>MALATHION(QTY)(kg)</th>\n",
       "      <th>Rice(kg/hectare)</th>\n",
       "    </tr>\n",
       "  </thead>\n",
       "  <tbody>\n",
       "    <tr>\n",
       "      <th>0</th>\n",
       "      <td>23353</td>\n",
       "      <td>6.0</td>\n",
       "      <td>0.1</td>\n",
       "      <td>11</td>\n",
       "      <td>1785</td>\n",
       "      <td>2029</td>\n",
       "    </tr>\n",
       "    <tr>\n",
       "      <th>1</th>\n",
       "      <td>28932</td>\n",
       "      <td>5.1</td>\n",
       "      <td>0.1</td>\n",
       "      <td>11</td>\n",
       "      <td>1786</td>\n",
       "      <td>2030</td>\n",
       "    </tr>\n",
       "    <tr>\n",
       "      <th>2</th>\n",
       "      <td>19808</td>\n",
       "      <td>5.1</td>\n",
       "      <td>0.1</td>\n",
       "      <td>11</td>\n",
       "      <td>1787</td>\n",
       "      <td>2031</td>\n",
       "    </tr>\n",
       "    <tr>\n",
       "      <th>3</th>\n",
       "      <td>30377</td>\n",
       "      <td>4.8</td>\n",
       "      <td>0.1</td>\n",
       "      <td>11</td>\n",
       "      <td>1788</td>\n",
       "      <td>2032</td>\n",
       "    </tr>\n",
       "    <tr>\n",
       "      <th>4</th>\n",
       "      <td>34321</td>\n",
       "      <td>5.0</td>\n",
       "      <td>0.1</td>\n",
       "      <td>11</td>\n",
       "      <td>1789</td>\n",
       "      <td>2033</td>\n",
       "    </tr>\n",
       "    <tr>\n",
       "      <th>5</th>\n",
       "      <td>35253</td>\n",
       "      <td>5.9</td>\n",
       "      <td>0.1</td>\n",
       "      <td>11</td>\n",
       "      <td>1790</td>\n",
       "      <td>2034</td>\n",
       "    </tr>\n",
       "    <tr>\n",
       "      <th>6</th>\n",
       "      <td>31559</td>\n",
       "      <td>6.0</td>\n",
       "      <td>0.1</td>\n",
       "      <td>11</td>\n",
       "      <td>1791</td>\n",
       "      <td>2035</td>\n",
       "    </tr>\n",
       "    <tr>\n",
       "      <th>7</th>\n",
       "      <td>26249</td>\n",
       "      <td>5.1</td>\n",
       "      <td>0.1</td>\n",
       "      <td>11</td>\n",
       "      <td>1792</td>\n",
       "      <td>2036</td>\n",
       "    </tr>\n",
       "    <tr>\n",
       "      <th>8</th>\n",
       "      <td>36011</td>\n",
       "      <td>4.8</td>\n",
       "      <td>0.1</td>\n",
       "      <td>11</td>\n",
       "      <td>1793</td>\n",
       "      <td>2037</td>\n",
       "    </tr>\n",
       "    <tr>\n",
       "      <th>9</th>\n",
       "      <td>29307</td>\n",
       "      <td>5.0</td>\n",
       "      <td>0.1</td>\n",
       "      <td>11</td>\n",
       "      <td>1794</td>\n",
       "      <td>2038</td>\n",
       "    </tr>\n",
       "    <tr>\n",
       "      <th>10</th>\n",
       "      <td>25392</td>\n",
       "      <td>5.1</td>\n",
       "      <td>0.1</td>\n",
       "      <td>11</td>\n",
       "      <td>1795</td>\n",
       "      <td>2039</td>\n",
       "    </tr>\n",
       "    <tr>\n",
       "      <th>11</th>\n",
       "      <td>32155</td>\n",
       "      <td>4.8</td>\n",
       "      <td>0.1</td>\n",
       "      <td>11</td>\n",
       "      <td>1796</td>\n",
       "      <td>2040</td>\n",
       "    </tr>\n",
       "    <tr>\n",
       "      <th>12</th>\n",
       "      <td>27553</td>\n",
       "      <td>5.0</td>\n",
       "      <td>0.1</td>\n",
       "      <td>11</td>\n",
       "      <td>1797</td>\n",
       "      <td>2041</td>\n",
       "    </tr>\n",
       "    <tr>\n",
       "      <th>13</th>\n",
       "      <td>32014</td>\n",
       "      <td>5.9</td>\n",
       "      <td>0.1</td>\n",
       "      <td>11</td>\n",
       "      <td>1798</td>\n",
       "      <td>2042</td>\n",
       "    </tr>\n",
       "    <tr>\n",
       "      <th>14</th>\n",
       "      <td>27841</td>\n",
       "      <td>6.0</td>\n",
       "      <td>0.1</td>\n",
       "      <td>11</td>\n",
       "      <td>1799</td>\n",
       "      <td>2043</td>\n",
       "    </tr>\n",
       "    <tr>\n",
       "      <th>15</th>\n",
       "      <td>21708</td>\n",
       "      <td>5.1</td>\n",
       "      <td>0.1</td>\n",
       "      <td>11</td>\n",
       "      <td>1800</td>\n",
       "      <td>2044</td>\n",
       "    </tr>\n",
       "    <tr>\n",
       "      <th>16</th>\n",
       "      <td>21689</td>\n",
       "      <td>4.8</td>\n",
       "      <td>0.1</td>\n",
       "      <td>11</td>\n",
       "      <td>1801</td>\n",
       "      <td>2045</td>\n",
       "    </tr>\n",
       "    <tr>\n",
       "      <th>17</th>\n",
       "      <td>25372</td>\n",
       "      <td>6.0</td>\n",
       "      <td>0.1</td>\n",
       "      <td>11</td>\n",
       "      <td>1802</td>\n",
       "      <td>2046</td>\n",
       "    </tr>\n",
       "    <tr>\n",
       "      <th>18</th>\n",
       "      <td>17311</td>\n",
       "      <td>5.1</td>\n",
       "      <td>0.1</td>\n",
       "      <td>11</td>\n",
       "      <td>1803</td>\n",
       "      <td>2047</td>\n",
       "    </tr>\n",
       "    <tr>\n",
       "      <th>19</th>\n",
       "      <td>26891</td>\n",
       "      <td>4.8</td>\n",
       "      <td>0.1</td>\n",
       "      <td>11</td>\n",
       "      <td>1804</td>\n",
       "      <td>2048</td>\n",
       "    </tr>\n",
       "    <tr>\n",
       "      <th>20</th>\n",
       "      <td>29822</td>\n",
       "      <td>5.0</td>\n",
       "      <td>0.1</td>\n",
       "      <td>11</td>\n",
       "      <td>1805</td>\n",
       "      <td>2049</td>\n",
       "    </tr>\n",
       "    <tr>\n",
       "      <th>21</th>\n",
       "      <td>23361</td>\n",
       "      <td>5.9</td>\n",
       "      <td>0.1</td>\n",
       "      <td>11</td>\n",
       "      <td>1806</td>\n",
       "      <td>2050</td>\n",
       "    </tr>\n",
       "    <tr>\n",
       "      <th>22</th>\n",
       "      <td>16624</td>\n",
       "      <td>6.0</td>\n",
       "      <td>0.1</td>\n",
       "      <td>11</td>\n",
       "      <td>1807</td>\n",
       "      <td>2051</td>\n",
       "    </tr>\n",
       "    <tr>\n",
       "      <th>23</th>\n",
       "      <td>25556</td>\n",
       "      <td>5.1</td>\n",
       "      <td>0.1</td>\n",
       "      <td>11</td>\n",
       "      <td>1808</td>\n",
       "      <td>2052</td>\n",
       "    </tr>\n",
       "    <tr>\n",
       "      <th>24</th>\n",
       "      <td>27734</td>\n",
       "      <td>4.8</td>\n",
       "      <td>0.1</td>\n",
       "      <td>11</td>\n",
       "      <td>1809</td>\n",
       "      <td>2053</td>\n",
       "    </tr>\n",
       "    <tr>\n",
       "      <th>25</th>\n",
       "      <td>31877</td>\n",
       "      <td>5.0</td>\n",
       "      <td>0.1</td>\n",
       "      <td>11</td>\n",
       "      <td>1810</td>\n",
       "      <td>2054</td>\n",
       "    </tr>\n",
       "    <tr>\n",
       "      <th>26</th>\n",
       "      <td>25024</td>\n",
       "      <td>5.1</td>\n",
       "      <td>0.1</td>\n",
       "      <td>11</td>\n",
       "      <td>1811</td>\n",
       "      <td>2055</td>\n",
       "    </tr>\n",
       "    <tr>\n",
       "      <th>27</th>\n",
       "      <td>27193</td>\n",
       "      <td>4.8</td>\n",
       "      <td>0.1</td>\n",
       "      <td>11</td>\n",
       "      <td>1812</td>\n",
       "      <td>2056</td>\n",
       "    </tr>\n",
       "    <tr>\n",
       "      <th>28</th>\n",
       "      <td>27960</td>\n",
       "      <td>5.0</td>\n",
       "      <td>0.1</td>\n",
       "      <td>11</td>\n",
       "      <td>1813</td>\n",
       "      <td>2057</td>\n",
       "    </tr>\n",
       "    <tr>\n",
       "      <th>29</th>\n",
       "      <td>23294</td>\n",
       "      <td>5.9</td>\n",
       "      <td>0.1</td>\n",
       "      <td>11</td>\n",
       "      <td>1814</td>\n",
       "      <td>2058</td>\n",
       "    </tr>\n",
       "    <tr>\n",
       "      <th>30</th>\n",
       "      <td>23338</td>\n",
       "      <td>5.1</td>\n",
       "      <td>0.1</td>\n",
       "      <td>11</td>\n",
       "      <td>1815</td>\n",
       "      <td>2059</td>\n",
       "    </tr>\n",
       "  </tbody>\n",
       "</table>\n",
       "</div>"
      ],
      "text/plain": [
       "     Rainfall   Ph  Rise (Depth of Water)  NPK(tonnes)  MALATHION(QTY)(kg)  \\\n",
       "0       23353  6.0                    0.1           11                1785   \n",
       "1       28932  5.1                    0.1           11                1786   \n",
       "2       19808  5.1                    0.1           11                1787   \n",
       "3       30377  4.8                    0.1           11                1788   \n",
       "4       34321  5.0                    0.1           11                1789   \n",
       "5       35253  5.9                    0.1           11                1790   \n",
       "6       31559  6.0                    0.1           11                1791   \n",
       "7       26249  5.1                    0.1           11                1792   \n",
       "8       36011  4.8                    0.1           11                1793   \n",
       "9       29307  5.0                    0.1           11                1794   \n",
       "10      25392  5.1                    0.1           11                1795   \n",
       "11      32155  4.8                    0.1           11                1796   \n",
       "12      27553  5.0                    0.1           11                1797   \n",
       "13      32014  5.9                    0.1           11                1798   \n",
       "14      27841  6.0                    0.1           11                1799   \n",
       "15      21708  5.1                    0.1           11                1800   \n",
       "16      21689  4.8                    0.1           11                1801   \n",
       "17      25372  6.0                    0.1           11                1802   \n",
       "18      17311  5.1                    0.1           11                1803   \n",
       "19      26891  4.8                    0.1           11                1804   \n",
       "20      29822  5.0                    0.1           11                1805   \n",
       "21      23361  5.9                    0.1           11                1806   \n",
       "22      16624  6.0                    0.1           11                1807   \n",
       "23      25556  5.1                    0.1           11                1808   \n",
       "24      27734  4.8                    0.1           11                1809   \n",
       "25      31877  5.0                    0.1           11                1810   \n",
       "26      25024  5.1                    0.1           11                1811   \n",
       "27      27193  4.8                    0.1           11                1812   \n",
       "28      27960  5.0                    0.1           11                1813   \n",
       "29      23294  5.9                    0.1           11                1814   \n",
       "30      23338  5.1                    0.1           11                1815   \n",
       "\n",
       "    Rice(kg/hectare)  \n",
       "0               2029  \n",
       "1               2030  \n",
       "2               2031  \n",
       "3               2032  \n",
       "4               2033  \n",
       "5               2034  \n",
       "6               2035  \n",
       "7               2036  \n",
       "8               2037  \n",
       "9               2038  \n",
       "10              2039  \n",
       "11              2040  \n",
       "12              2041  \n",
       "13              2042  \n",
       "14              2043  \n",
       "15              2044  \n",
       "16              2045  \n",
       "17              2046  \n",
       "18              2047  \n",
       "19              2048  \n",
       "20              2049  \n",
       "21              2050  \n",
       "22              2051  \n",
       "23              2052  \n",
       "24              2053  \n",
       "25              2054  \n",
       "26              2055  \n",
       "27              2056  \n",
       "28              2057  \n",
       "29              2058  \n",
       "30              2059  "
      ]
     },
     "execution_count": 37,
     "metadata": {},
     "output_type": "execute_result"
    }
   ],
   "source": [
    "Parameterone"
   ]
  },
  {
   "cell_type": "code",
   "execution_count": 38,
   "metadata": {},
   "outputs": [],
   "source": [
    "#################Ada Boost Classifier##################"
   ]
  },
  {
   "cell_type": "code",
   "execution_count": 39,
   "metadata": {},
   "outputs": [],
   "source": [
    "X=Parameterone.drop('Rice(kg/hectare)',axis=1)\n",
    "y=Parameterone['Rice(kg/hectare)']"
   ]
  },
  {
   "cell_type": "code",
   "execution_count": 40,
   "metadata": {},
   "outputs": [
    {
     "data": {
      "text/plain": [
       "Index([' Rainfall', 'Ph', 'Rise (Depth of Water)', 'NPK(tonnes)',\n",
       "       'MALATHION(QTY)(kg)', 'Rice(kg/hectare)'],\n",
       "      dtype='object')"
      ]
     },
     "execution_count": 40,
     "metadata": {},
     "output_type": "execute_result"
    }
   ],
   "source": [
    "Parameterone.columns"
   ]
  },
  {
   "cell_type": "code",
   "execution_count": 41,
   "metadata": {},
   "outputs": [],
   "source": [
    "from sklearn.model_selection import train_test_split"
   ]
  },
  {
   "cell_type": "code",
   "execution_count": 42,
   "metadata": {},
   "outputs": [],
   "source": [
    "X_train, X_test, y_train, y_test = train_test_split(X, y, test_size=0.70,random_state=70)"
   ]
  },
  {
   "cell_type": "code",
   "execution_count": 43,
   "metadata": {},
   "outputs": [],
   "source": [
    "from sklearn.linear_model import SGDClassifier"
   ]
  },
  {
   "cell_type": "code",
   "execution_count": 44,
   "metadata": {},
   "outputs": [],
   "source": [
    "a=SGDClassifier()"
   ]
  },
  {
   "cell_type": "code",
   "execution_count": 45,
   "metadata": {},
   "outputs": [],
   "source": [
    "a=a.fit(X_train,y_train)"
   ]
  },
  {
   "cell_type": "code",
   "execution_count": 46,
   "metadata": {},
   "outputs": [
    {
     "name": "stdout",
     "output_type": "stream",
     "text": [
      "0.0\n"
     ]
    }
   ],
   "source": [
    "print(a.score(X_test,y_test)*10)"
   ]
  },
  {
   "cell_type": "code",
   "execution_count": 47,
   "metadata": {},
   "outputs": [
    {
     "data": {
      "text/plain": [
       "Index(['Year', 'Rice(kg/hectare)', 'Ragi', 'Groundnuts', 'Sugarcane',\n",
       "       'Other Pulses', 'Banana', 'Coconut', 'Pepper'],\n",
       "      dtype='object')"
      ]
     },
     "execution_count": 47,
     "metadata": {},
     "output_type": "execute_result"
    }
   ],
   "source": [
    "f.columns"
   ]
  },
  {
   "cell_type": "code",
   "execution_count": 48,
   "metadata": {},
   "outputs": [],
   "source": [
    "Crop2=pd.DataFrame(f['Ragi'])\n",
    "Crop3=pd.DataFrame(f['Groundnuts'])\n",
    "Crop4=pd.DataFrame(f['Sugarcane'])\n",
    "Crop5=pd.DataFrame(f['Other Pulses'])\n",
    "Crop6=pd.DataFrame(f['Banana'])\n",
    "Crop7=pd.DataFrame(f['Coconut'])\n",
    "Crop8=pd.DataFrame(f['Pepper'])"
   ]
  },
  {
   "cell_type": "code",
   "execution_count": 49,
   "metadata": {},
   "outputs": [],
   "source": [
    "Parameteronea=pd.concat([climate,Soil,Water,Fertilizer,Pesticides,Crop2],axis=1)\n",
    "Parameteroneb=pd.concat([climate,Soil,Water,Fertilizer,Pesticides,Crop3],axis=1)\n",
    "Parameteronec=pd.concat([climate,Soil,Water,Fertilizer,Pesticides,Crop4],axis=1)\n",
    "Parameteroned=pd.concat([climate,Soil,Water,Fertilizer,Pesticides,Crop5],axis=1)\n",
    "Parameteronee=pd.concat([climate,Soil,Water,Fertilizer,Pesticides,Crop6],axis=1)\n",
    "Parameteronef=pd.concat([climate,Soil,Water,Fertilizer,Pesticides,Crop7],axis=1)\n",
    "Parameteroneg=pd.concat([climate,Soil,Water,Fertilizer,Pesticides,Crop8],axis=1)\n"
   ]
  },
  {
   "cell_type": "code",
   "execution_count": 50,
   "metadata": {},
   "outputs": [],
   "source": [
    "\n",
    "X1=Parameteronea.drop('Ragi',axis=1)\n",
    "y1=Parameteronea['Ragi']\n",
    "\n",
    "X2=Parameteroneb.drop('Groundnuts',axis=1)\n",
    "y2=Parameteroneb['Groundnuts']\n",
    "\n",
    "X3=Parameteronec.drop('Sugarcane',axis=1)\n",
    "y3=Parameteronec['Sugarcane']\n",
    "\n",
    "X4=Parameteroned.drop('Other Pulses',axis=1)\n",
    "y4=Parameteroned['Other Pulses']\n",
    "\n",
    "X5=Parameteronee.drop('Banana',axis=1)\n",
    "y5=Parameteronee['Banana']\n",
    "\n",
    "X6=Parameteronef.drop('Coconut',axis=1)\n",
    "y6=Parameteronef['Coconut']\n",
    "\n",
    "X7=Parameteroneg.drop('Pepper',axis=1)\n",
    "y7=Parameteroneg['Pepper']"
   ]
  },
  {
   "cell_type": "code",
   "execution_count": 51,
   "metadata": {},
   "outputs": [],
   "source": [
    "from sklearn.model_selection import train_test_split"
   ]
  },
  {
   "cell_type": "code",
   "execution_count": 52,
   "metadata": {},
   "outputs": [],
   "source": [
    "X_train1, X_test1, y_train1, y_test1 = train_test_split(X1, y1, test_size=0.70,random_state=70)\n",
    "X_train2, X_test2, y_train2, y_test2 = train_test_split(X2, y2, test_size=0.70,random_state=70)\n",
    "X_train3, X_test3, y_train3, y_test3 = train_test_split(X3, y3, test_size=0.70,random_state=70)\n",
    "X_train4, X_test4, y_train4, y_test4 = train_test_split(X4, y4, test_size=0.70,random_state=70)\n",
    "X_train5, X_test5, y_train5, y_test5 = train_test_split(X5, y5, test_size=0.70,random_state=70)\n",
    "X_train6, X_test6, y_train6, y_test6 = train_test_split(X6, y6, test_size=0.70,random_state=70)\n",
    "X_train7, X_test7, y_train7, y_test7 = train_test_split(X7, y7, test_size=0.70,random_state=70)\n"
   ]
  },
  {
   "cell_type": "code",
   "execution_count": 53,
   "metadata": {},
   "outputs": [],
   "source": [
    "from sklearn.linear_model import SGDClassifier"
   ]
  },
  {
   "cell_type": "code",
   "execution_count": 54,
   "metadata": {},
   "outputs": [],
   "source": [
    "a=SGDClassifier()\n",
    "b=SGDClassifier()\n",
    "c=SGDClassifier()\n",
    "d=SGDClassifier()\n",
    "e=SGDClassifier()\n",
    "f=SGDClassifier()\n",
    "g=SGDClassifier()\n",
    "\n"
   ]
  },
  {
   "cell_type": "code",
   "execution_count": 55,
   "metadata": {},
   "outputs": [
    {
     "data": {
      "text/plain": [
       "AdaBoostClassifier(algorithm='SAMME.R', base_estimator=None,\n",
       "          learning_rate=1.0, n_estimators=50, random_state=None)"
      ]
     },
     "execution_count": 55,
     "metadata": {},
     "output_type": "execute_result"
    }
   ],
   "source": [
    "a.fit(X_train1,y_train1)\n",
    "b.fit(X_train2,y_train2)\n",
    "c.fit(X_train3,y_train3)\n",
    "d.fit(X_train4,y_train4)\n",
    "e.fit(X_train5,y_train5)\n",
    "f.fit(X_train6,y_train6)\n",
    "g.fit(X_train7,y_train7)\n"
   ]
  },
  {
   "cell_type": "code",
   "execution_count": 56,
   "metadata": {},
   "outputs": [
    {
     "name": "stdout",
     "output_type": "stream",
     "text": [
      "0.0\n",
      "0.0\n",
      "0.0\n",
      "0.0\n",
      "0.0\n",
      "1.0\n",
      "10.0\n"
     ]
    }
   ],
   "source": [
    "print(a.score(X_test1,y_test1)*10)\n",
    "print(b.score(X_test2,y_test2)*10)\n",
    "print(c.score(X_test3,y_test3)*10)\n",
    "print(d.score(X_test4,y_test4)*10)\n",
    "print(e.score(X_test5,y_test5)*10)\n",
    "print(f.score(X_test6,y_test6))\n",
    "print(g.score(X_test7,y_test7)*10)\n"
   ]
  },
  {
   "cell_type": "code",
   "execution_count": null,
   "metadata": {},
   "outputs": [],
   "source": []
  }
 ],
 "metadata": {
  "kernelspec": {
   "display_name": "Python 3",
   "language": "python",
   "name": "python3"
  },
  "language_info": {
   "codemirror_mode": {
    "name": "ipython",
    "version": 3
   },
   "file_extension": ".py",
   "mimetype": "text/x-python",
   "name": "python",
   "nbconvert_exporter": "python",
   "pygments_lexer": "ipython3",
   "version": "3.6.5"
  }
 },
 "nbformat": 4,
 "nbformat_minor": 2
}
