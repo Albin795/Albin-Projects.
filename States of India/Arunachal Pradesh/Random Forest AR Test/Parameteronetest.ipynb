{
 "cells": [
  {
   "cell_type": "code",
   "execution_count": 1,
   "metadata": {},
   "outputs": [],
   "source": [
    "import numpy as np\n",
    "import pandas as pd\n",
    "\n"
   ]
  },
  {
   "cell_type": "code",
   "execution_count": 2,
   "metadata": {},
   "outputs": [],
   "source": [
    "a=pd.read_csv('climate Test1.csv')\n",
    "b=pd.read_csv('Soil Test1.csv')\n",
    "c=pd.read_csv('groundwater Test1.csv')\n",
    "d=pd.read_csv('Fertilizers Test1.csv')\n",
    "e=pd.read_csv('Pesticides Test1.csv')\n",
    "f=pd.read_csv('Crop data Test1.csv')"
   ]
  },
  {
   "cell_type": "code",
   "execution_count": 3,
   "metadata": {},
   "outputs": [],
   "source": [
    "climate=pd.DataFrame(a[' Rainfall'])"
   ]
  },
  {
   "cell_type": "code",
   "execution_count": 4,
   "metadata": {},
   "outputs": [],
   "source": [
    "Soil=pd.DataFrame(b['Ph'])"
   ]
  },
  {
   "cell_type": "code",
   "execution_count": 5,
   "metadata": {},
   "outputs": [],
   "source": [
    "Water=pd.DataFrame(c['Rise (Depth of Water)'])"
   ]
  },
  {
   "cell_type": "code",
   "execution_count": 6,
   "metadata": {},
   "outputs": [],
   "source": [
    "Fertilizer=pd.DataFrame(d['NPK(tonnes)'])"
   ]
  },
  {
   "cell_type": "code",
   "execution_count": 7,
   "metadata": {},
   "outputs": [],
   "source": [
    "Pesticides=pd.DataFrame(e['MALATHION(QTY)(kg)'])"
   ]
  },
  {
   "cell_type": "code",
   "execution_count": null,
   "metadata": {},
   "outputs": [],
   "source": [
    "Crop=pd.DataFrame(f['Rice(kg/hectare)'])"
   ]
  },
  {
   "cell_type": "code",
   "execution_count": null,
   "metadata": {},
   "outputs": [],
   "source": [
    "Parameterone=pd.concat([climate,Soil,Water,Fertilizer,Pesticides,Crop],axis=1)"
   ]
  },
  {
   "cell_type": "code",
   "execution_count": null,
   "metadata": {},
   "outputs": [],
   "source": [
    "Parameterone"
   ]
  },
  {
   "cell_type": "code",
   "execution_count": null,
   "metadata": {},
   "outputs": [],
   "source": [
    "#################Ada Boost Classifier##################"
   ]
  },
  {
   "cell_type": "code",
   "execution_count": null,
   "metadata": {},
   "outputs": [],
   "source": [
    "X=Parameterone.drop('Rice(kg/hectare)',axis=1)\n",
    "y=Parameterone['Rice(kg/hectare)']"
   ]
  },
  {
   "cell_type": "code",
   "execution_count": null,
   "metadata": {},
   "outputs": [],
   "source": [
    "Parameterone.columns"
   ]
  },
  {
   "cell_type": "code",
   "execution_count": null,
   "metadata": {},
   "outputs": [],
   "source": [
    "from sklearn.model_selection import train_test_split"
   ]
  },
  {
   "cell_type": "code",
   "execution_count": null,
   "metadata": {},
   "outputs": [],
   "source": [
    "X_train, X_test, y_train, y_test = train_test_split(X, y, test_size=0.70,random_state=70)"
   ]
  },
  {
   "cell_type": "code",
   "execution_count": null,
   "metadata": {},
   "outputs": [],
   "source": [
    "from sklearn.ensemble import RandomForestClassifier\n"
   ]
  },
  {
   "cell_type": "code",
   "execution_count": null,
   "metadata": {},
   "outputs": [],
   "source": [
    "a=RandomForestClassifier()"
   ]
  },
  {
   "cell_type": "code",
   "execution_count": 18,
   "metadata": {},
   "outputs": [],
   "source": [
    "a=a.fit(X_train,y_train)"
   ]
  },
  {
   "cell_type": "code",
   "execution_count": 19,
   "metadata": {},
   "outputs": [
    {
     "name": "stdout",
     "output_type": "stream",
     "text": [
      "0.0\n"
     ]
    }
   ],
   "source": [
    "print(a.score(X_test,y_test)*10)"
   ]
  },
  {
   "cell_type": "code",
   "execution_count": 20,
   "metadata": {},
   "outputs": [
    {
     "data": {
      "text/plain": [
       "Index(['Year', 'Rice(kg/hectare)', 'Small Millets', 'Tur ', 'Sessasum',\n",
       "       'Banana', 'Sugarcane', 'Chillies', 'Ginger', 'Tumeric', 'Maize',\n",
       "       'Potato', 'Wheat', 'Other Pulses', 'Groundnuts'],\n",
       "      dtype='object')"
      ]
     },
     "execution_count": 20,
     "metadata": {},
     "output_type": "execute_result"
    }
   ],
   "source": [
    "f.columns"
   ]
  },
  {
   "cell_type": "code",
   "execution_count": 24,
   "metadata": {},
   "outputs": [],
   "source": [
    "Crop2=pd.DataFrame(f['Small Millets'])\n",
    "Crop3=pd.DataFrame(f['Tur '])\n",
    "Crop4=pd.DataFrame(f['Sessasum'])\n",
    "Crop5=pd.DataFrame(f['Banana'])\n",
    "Crop6=pd.DataFrame(f['Sugarcane'])\n",
    "Crop7=pd.DataFrame(f['Chillies'])\n",
    "Crop8=pd.DataFrame(f['Ginger'])\n",
    "Crop9=pd.DataFrame(f['Tumeric'])\n",
    "Crop10=pd.DataFrame(f['Maize'])\n",
    "Crop11=pd.DataFrame(f['Potato'])\n",
    "Crop12=pd.DataFrame(f['Wheat'])\n",
    "Crop13=pd.DataFrame(f['Other Pulses'])\n",
    "Crop14=pd.DataFrame(f['Groundnuts'])"
   ]
  },
  {
   "cell_type": "code",
   "execution_count": 25,
   "metadata": {},
   "outputs": [],
   "source": [
    "Parameteronea=pd.concat([climate,Soil,Water,Fertilizer,Pesticides,Crop2],axis=1)\n",
    "Parameteroneb=pd.concat([climate,Soil,Water,Fertilizer,Pesticides,Crop3],axis=1)\n",
    "Parameteronec=pd.concat([climate,Soil,Water,Fertilizer,Pesticides,Crop4],axis=1)\n",
    "Parameteroned=pd.concat([climate,Soil,Water,Fertilizer,Pesticides,Crop5],axis=1)\n",
    "Parameteronee=pd.concat([climate,Soil,Water,Fertilizer,Pesticides,Crop6],axis=1)\n",
    "Parameteronef=pd.concat([climate,Soil,Water,Fertilizer,Pesticides,Crop7],axis=1)\n",
    "Parameteroneg=pd.concat([climate,Soil,Water,Fertilizer,Pesticides,Crop8],axis=1)\n",
    "Parameteroneh=pd.concat([climate,Soil,Water,Fertilizer,Pesticides,Crop9],axis=1)\n",
    "Parameteronei=pd.concat([climate,Soil,Water,Fertilizer,Pesticides,Crop10],axis=1)\n",
    "Parameteronej=pd.concat([climate,Soil,Water,Fertilizer,Pesticides,Crop11],axis=1)\n",
    "Parameteronek=pd.concat([climate,Soil,Water,Fertilizer,Pesticides,Crop12],axis=1)\n",
    "Parameteronel=pd.concat([climate,Soil,Water,Fertilizer,Pesticides,Crop13],axis=1)\n",
    "Parameteronem=pd.concat([climate,Soil,Water,Fertilizer,Pesticides,Crop14],axis=1)\n"
   ]
  },
  {
   "cell_type": "code",
   "execution_count": 27,
   "metadata": {},
   "outputs": [],
   "source": [
    "\n",
    "X2=Parameteronea.drop('Small Millets',axis=1)\n",
    "y2=Parameteronea['Small Millets']\n",
    "\n",
    "X3=Parameteroneb.drop('Tur ',axis=1)\n",
    "y3=Parameteroneb['Tur ']\n",
    "\n",
    "X4=Parameteronec.drop('Sessasum',axis=1)\n",
    "y4=Parameteronec['Sessasum']\n",
    "\n",
    "X5=Parameteroned.drop('Banana',axis=1)\n",
    "y5=Parameteroned['Banana']\n",
    "\n",
    "X6=Parameteronee.drop('Sugarcane',axis=1)\n",
    "y6=Parameteronee['Sugarcane']\n",
    "\n",
    "X7=Parameteronef.drop('Chillies',axis=1)\n",
    "y7=Parameteronef['Chillies']\n",
    "\n",
    "X8=Parameteroneg.drop('Ginger',axis=1)\n",
    "y8=Parameteroneg['Ginger']\n",
    "\n",
    "X9=Parameteroneh.drop('Tumeric',axis=1)\n",
    "y9=Parameteroneh['Tumeric']\n",
    "\n",
    "X10=Parameteronei.drop('Maize',axis=1)\n",
    "y10=Parameteronei['Maize']\n",
    "\n",
    "X11=Parameteronej.drop('Potato',axis=1)\n",
    "y11=Parameteronej['Potato']\n",
    "\n",
    "X12=Parameteronek.drop('Wheat',axis=1)\n",
    "y12=Parameteronek['Wheat']\n",
    "\n",
    "X13=Parameteronel.drop('Other Pulses',axis=1)\n",
    "y13=Parameteronel['Other Pulses']\n",
    "\n",
    "X14=Parameteronem.drop('Groundnuts',axis=1)\n",
    "y14=Parameteronem['Groundnuts']\n",
    "\n"
   ]
  },
  {
   "cell_type": "code",
   "execution_count": 28,
   "metadata": {},
   "outputs": [],
   "source": [
    "from sklearn.model_selection import train_test_split"
   ]
  },
  {
   "cell_type": "code",
   "execution_count": 29,
   "metadata": {},
   "outputs": [],
   "source": [
    "\n",
    "X_train2, X_test2, y_train2, y_test2 = train_test_split(X2, y2, test_size=0.70,random_state=70)\n",
    "X_train3, X_test3, y_train3, y_test3 = train_test_split(X3, y3, test_size=0.70,random_state=70)\n",
    "X_train4, X_test4, y_train4, y_test4 = train_test_split(X4, y4, test_size=0.70,random_state=70)\n",
    "X_train5, X_test5, y_train5, y_test5 = train_test_split(X5, y5, test_size=0.70,random_state=70)\n",
    "X_train6, X_test6, y_train6, y_test6 = train_test_split(X6, y6, test_size=0.70,random_state=70)\n",
    "X_train7, X_test7, y_train7, y_test7 = train_test_split(X7, y7, test_size=0.70,random_state=70)\n",
    "X_train8, X_test8, y_train8, y_test8 = train_test_split(X8, y8, test_size=0.70,random_state=70)\n",
    "X_train9, X_test9, y_train9, y_test9 = train_test_split(X9, y9, test_size=0.70,random_state=70)\n",
    "X_train10, X_test10, y_train10, y_test10 = train_test_split(X10, y10, test_size=0.70,random_state=70)\n",
    "X_train11, X_test11, y_train11, y_test11 = train_test_split(X11, y11, test_size=0.70,random_state=70)\n",
    "X_train12, X_test12, y_train12, y_test12 = train_test_split(X12, y12, test_size=0.70,random_state=70)\n",
    "X_train13, X_test13, y_train13, y_test13 = train_test_split(X13, y13, test_size=0.70,random_state=70)\n",
    "X_train14, X_test14, y_train14, y_test14 = train_test_split(X14, y14, test_size=0.70,random_state=70)\n"
   ]
  },
  {
   "cell_type": "code",
   "execution_count": 30,
   "metadata": {},
   "outputs": [],
   "source": [
    "from sklearn.ensemble import RandomForestClassifier"
   ]
  },
  {
   "cell_type": "code",
   "execution_count": 32,
   "metadata": {},
   "outputs": [],
   "source": [
    "b=RandomForestClassifier()\n",
    "c=RandomForestClassifier()\n",
    "d=RandomForestClassifier()\n",
    "e=RandomForestClassifier()\n",
    "f=RandomForestClassifier()\n",
    "g=RandomForestClassifier()\n",
    "h=RandomForestClassifier()\n",
    "i=RandomForestClassifier()\n",
    "j=RandomForestClassifier()\n",
    "k=RandomForestClassifier()\n",
    "l=RandomForestClassifier()\n",
    "m=RandomForestClassifier()\n",
    "n=RandomForestClassifier()\n",
    "\n"
   ]
  },
  {
   "cell_type": "code",
   "execution_count": 33,
   "metadata": {},
   "outputs": [
    {
     "data": {
      "text/plain": [
       "AdaBoostClassifier(algorithm='SAMME.R', base_estimator=None,\n",
       "          learning_rate=1.0, n_estimators=50, random_state=None)"
      ]
     },
     "execution_count": 33,
     "metadata": {},
     "output_type": "execute_result"
    }
   ],
   "source": [
    "\n",
    "b.fit(X_train2,y_train2)\n",
    "c.fit(X_train3,y_train3)\n",
    "d.fit(X_train4,y_train4)\n",
    "e.fit(X_train5,y_train5)\n",
    "f.fit(X_train6,y_train6)\n",
    "g.fit(X_train7,y_train7)\n",
    "h.fit(X_train8,y_train8)\n",
    "i.fit(X_train9,y_train9)\n",
    "j.fit(X_train10,y_train10)\n",
    "k.fit(X_train11,y_train11)\n",
    "l.fit(X_train12,y_train12)\n",
    "m.fit(X_train13,y_train13)\n",
    "n.fit(X_train14,y_train14)"
   ]
  },
  {
   "cell_type": "code",
   "execution_count": 35,
   "metadata": {},
   "outputs": [
    {
     "name": "stdout",
     "output_type": "stream",
     "text": [
      "0.0\n",
      "0.0\n",
      "0.0\n",
      "10.0\n",
      "0.0\n",
      "0.13636363636363635\n",
      "1.3636363636363635\n",
      "0.13636363636363635\n",
      "0.0\n",
      "1.0\n",
      "0.0\n",
      "0.0\n",
      "0.0\n"
     ]
    }
   ],
   "source": [
    "print(b.score(X_test2,y_test2)*10)\n",
    "print(c.score(X_test3,y_test3)*10)\n",
    "print(d.score(X_test4,y_test4))\n",
    "print(e.score(X_test5,y_test5)*10)\n",
    "print(f.score(X_test6,y_test6))\n",
    "print(g.score(X_test7,y_test7))\n",
    "print(h.score(X_test8,y_test8)*10)\n",
    "print(i.score(X_test9,y_test9))\n",
    "print(j.score(X_test10,y_test10)*10)\n",
    "print(k.score(X_test11,y_test11))\n",
    "print(l.score(X_test12,y_test12))\n",
    "print(m.score(X_test13,y_test13))\n",
    "print(n.score(X_test14,y_test14))\n"
   ]
  },
  {
   "cell_type": "code",
   "execution_count": null,
   "metadata": {},
   "outputs": [],
   "source": []
  }
 ],
 "metadata": {
  "kernelspec": {
   "display_name": "Python 3",
   "language": "python",
   "name": "python3"
  },
  "language_info": {
   "codemirror_mode": {
    "name": "ipython",
    "version": 3
   },
   "file_extension": ".py",
   "mimetype": "text/x-python",
   "name": "python",
   "nbconvert_exporter": "python",
   "pygments_lexer": "ipython3",
   "version": "3.6.5"
  }
 },
 "nbformat": 4,
 "nbformat_minor": 2
}
